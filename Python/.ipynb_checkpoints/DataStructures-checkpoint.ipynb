{
 "cells": [
  {
   "cell_type": "markdown",
   "metadata": {},
   "source": [
    "# A Short Note On Markdown"
   ]
  },
  {
   "cell_type": "markdown",
   "metadata": {},
   "source": [
    "# Heading 1\n",
    "## Heading 2\n",
    "### Heading 3\n",
    "#### Heading 4\n",
    "##### Heading 5\n",
    "###### Heading 6\n",
    "\n",
    "\n",
    "Normal text.\n",
    "\n",
    "*Emphasised* text.\n",
    "\n",
    "**Strong** text.\n",
    "\n",
    "Unordered list:\n",
    "\n",
    "* Item 1\n",
    "* Item 2\n",
    "* Item 3\n",
    "\n",
    "Ordered list:\n",
    "\n",
    "1. Item 1\n",
    "2. Item 2\n",
    "3. Item 3\n",
    "\n",
    "\n",
    "This is an [inline link](http://example.com/).\n",
    "\n",
    "This is an [inline link with a title](http://example.com/ \"With a Title\").\n",
    "\n",
    "\n",
    "These are links by reference. Same result as above. Just a differnt way. This way is good if you have lots of links to include in your text. Here I can have a link to [Google][1], one to \n",
    "[Yahoo][2] and another to [MSN][3].\n",
    "\n",
    "[1]: http://google.com/        \"Google\"\n",
    "[2]: http://search.yahoo.com/  \"Yahoo Search\"\n",
    "[3]: http://search.msn.com/    \"MSN Search\"\n",
    "\n",
    "The references don't have to be numbers. They can be strings. The titles (\"Google\", \"Yahoo Search\", \"MSN Search\") are optional. Here are the same links with a different reference table. [Google][one], [Yahoo][two], [MSN][three].\n",
    "\n",
    "[one]: http://google.com/        \"Google\"\n",
    "[two]: http://search.yahoo.com/  \"Yahoo Search\"\n",
    "[three]: http://search.msn.com/    \"MSN Search\"\n",
    "\n",
    "\n",
    "### Latex\n",
    "\n",
    "Inline looks like this $y = mx +  b$.\n",
    "\n",
    "Display expression is done like this $$y = mx + b$$\n",
    "\n",
    "Here is standard form for an exponential function: $f(x) = a \\cdot e^x + b$.\n",
    "\n",
    "Display it with $$f(x) = a \\cdot e^x + b$$\n",
    "\n",
    "Show square root this way $$\\sqrt{x^2} = x$$\n",
    "\n",
    "Show $n^{th}$ root this way. $$\\sqrt[3]{x^3} = x$$\n",
    "\n",
    "Absolute value $$\\left|x + b\\right|$$.\n",
    "\n",
    "Multiplied by: $$a \\cdot \\left|x + b \\right| + c$$\n",
    "\n",
    "  or $$a \\times x$$ \n",
    "  \n",
    "  or $$a \\ast x$$ \n",
    "\n",
    "\n",
    "Here is a [List of Latex Symbols](https://oeis.org/wiki/List_of_LaTeX_mathematical_symbols \"Latex Symbols\")"
   ]
  },
  {
   "cell_type": "markdown",
   "metadata": {},
   "source": [
    "## Define Notebook Functions\n",
    "\n",
    "These functions are used in various pieces of sample code below."
   ]
  },
  {
   "cell_type": "code",
   "execution_count": 23,
   "metadata": {},
   "outputs": [],
   "source": [
    "import inspect\n",
    "\n",
    "def show_list(lst):\n",
    "    for index, item in enumerate(lst):\n",
    "        print (\"  \" + str(index) + \"  \" + str(item))\n",
    "    print()\n",
    "    \n",
    "def show_methods(obj):\n",
    "    for method, code in inspect.getmembers(obj):\n",
    "        if method[0] != '_':\n",
    "            print (method)"
   ]
  },
  {
   "cell_type": "markdown",
   "metadata": {},
   "source": [
    "## Lists"
   ]
  },
  {
   "cell_type": "code",
   "execution_count": 28,
   "metadata": {},
   "outputs": [
    {
     "name": "stdout",
     "output_type": "stream",
     "text": [
      "append\n",
      "clear\n",
      "copy\n",
      "count\n",
      "extend\n",
      "index\n",
      "insert\n",
      "pop\n",
      "remove\n",
      "reverse\n",
      "sort\n",
      "\n",
      "del\n",
      "enumerate\n",
      "set\n"
     ]
    }
   ],
   "source": [
    "# Methods from the list class\n",
    "my_list = []\n",
    "\n",
    "show_methods(my_list)\n",
    "print()\n",
    "\n",
    "# Additional operations that can be used on a list. See examples below.\n",
    "print ('del')\n",
    "print ('enumerate') # Used in loop control to list indexes of list items\n",
    "print ('set') # Used to convert a list to a set"
   ]
  },
  {
   "cell_type": "markdown",
   "metadata": {},
   "source": [
    "### Append\n",
    "This only works with individual values. If you try to append an object or a data structure you will get unpredicatble results."
   ]
  },
  {
   "cell_type": "code",
   "execution_count": null,
   "metadata": {},
   "outputs": [],
   "source": [
    "# Create a list\n",
    "my_list = ['one', 'two', 'three']\n",
    "print (my_list)"
   ]
  },
  {
   "cell_type": "code",
   "execution_count": 51,
   "metadata": {},
   "outputs": [
    {
     "name": "stdout",
     "output_type": "stream",
     "text": [
      "[]\n",
      "['one', 'two', 'three']\n"
     ]
    }
   ],
   "source": [
    "# Create an empty list\n",
    "my_list = []\n",
    "print (my_list)\n",
    "\n",
    "# Append to it\n",
    "my_list.append('one')\n",
    "my_list.append('two')\n",
    "my_list.append('three')\n",
    "print(my_list)"
   ]
  },
  {
   "cell_type": "markdown",
   "metadata": {},
   "source": [
    "### Extend \n",
    "The .extend method takes items from another list and adds them onto the end of the current list. Remember to use .extend if this is the behavior you want. "
   ]
  },
  {
   "cell_type": "code",
   "execution_count": 50,
   "metadata": {},
   "outputs": [
    {
     "name": "stdout",
     "output_type": "stream",
     "text": [
      "['one', 'two', 'three']\n",
      "['one', 'two', 'three', 'four', 'five', 'six']\n"
     ]
    }
   ],
   "source": [
    "# Create a list\n",
    "my_list = ['one', 'two', 'three']\n",
    "print (my_list)\n",
    "\n",
    "# Extend it\n",
    "my_list.extend(['four', 'five', 'six'])\n",
    "print(my_list)"
   ]
  },
  {
   "cell_type": "markdown",
   "metadata": {},
   "source": [
    "### Copy\n",
    "Makes a stand-alone copy of the list. Changes to the copy don't affect the original and vice verse."
   ]
  },
  {
   "cell_type": "code",
   "execution_count": 3,
   "metadata": {},
   "outputs": [
    {
     "name": "stdout",
     "output_type": "stream",
     "text": [
      "['one', 'two', 'three']\n",
      "['one', 'two', 'three']\n",
      "['one', 'two', 'three', 'four']\n",
      "['one', 'two', 'three']\n"
     ]
    }
   ],
   "source": [
    "# Create a list\n",
    "my_list = ['one', 'two', 'three']\n",
    "print (my_list)\n",
    "\n",
    "# Make a copy of it\n",
    "my_list_copy = my_list.copy()\n",
    "print(my_list_copy)\n",
    "\n",
    "\n",
    "# Clear it\n",
    "my_list_copy.append('four')\n",
    "print(my_list_copy)\n",
    "print(my_list)\n",
    "\n",
    "# Note here that only contents of the copy changed. The original is left untouched. This is because the .copy()\n",
    "# method creates a new, independent memory space for the copy."
   ]
  },
  {
   "cell_type": "markdown",
   "metadata": {},
   "source": [
    "### Object Reference\n",
    "When we try to set *list = other_list*, new_list becomes a pointer to the original list. Be careful with this because now the lists are poining to the same memory location. If you make a change to either list variable it will change the data for both."
   ]
  },
  {
   "cell_type": "code",
   "execution_count": 2,
   "metadata": {},
   "outputs": [
    {
     "name": "stdout",
     "output_type": "stream",
     "text": [
      "['one', 'two', 'three']\n",
      "['one', 'two', 'three']\n",
      "['one', 'two', 'three', 'four']\n",
      "['one', 'two', 'three', 'four']\n"
     ]
    }
   ],
   "source": [
    "# Create a list\n",
    "my_list = ['one', 'two', 'three']\n",
    "print (my_list)\n",
    "\n",
    "# Create a new reference to my_list\n",
    "my_list_copy = my_list\n",
    "print(my_list_copy)\n",
    "\n",
    "# Now modify the contents of the new reference. What happens to the contents of each list?\n",
    "my_list_copy.append('four')\n",
    "print(my_list_copy)\n",
    "print(my_list)\n",
    "\n",
    "# See how changing the copy also changed the original? This is because the copy of the name reference and the original\n",
    "# name reference are pointing to the same memory location."
   ]
  },
  {
   "cell_type": "markdown",
   "metadata": {},
   "source": [
    "### Get Item Index"
   ]
  },
  {
   "cell_type": "code",
   "execution_count": 35,
   "metadata": {},
   "outputs": [
    {
     "name": "stdout",
     "output_type": "stream",
     "text": [
      "['one', 'two', 'three', 'four', 'five', 'six']\n",
      "\n",
      "  0 one\n",
      "  1 two\n",
      "  2 three\n",
      "  3 four\n",
      "  4 five\n",
      "  5 six\n"
     ]
    }
   ],
   "source": [
    "# Create a list\n",
    "my_list = ['one', 'two', 'three', 'four', 'five', 'six']\n",
    "print(my_list)\n",
    "\n",
    "# Spin through and print out all the indexes and items.\n",
    "# This is what we are doing in our show_list function.\n",
    "print()\n",
    "for index, item in enumerate(my_list):\n",
    "    print (\"  \" + str(index) + \" \" + item)"
   ]
  },
  {
   "cell_type": "code",
   "execution_count": 2,
   "metadata": {},
   "outputs": [
    {
     "name": "stdout",
     "output_type": "stream",
     "text": [
      "['one', 'two', 'three', 'four', 'five', 'three']\n",
      "2\n",
      "[2, 5]\n"
     ]
    }
   ],
   "source": [
    "# Create a list\n",
    "my_list = ['one', 'two', 'three', 'four', 'five', 'three']\n",
    "print (my_list)\n",
    "\n",
    "# If we just want the index of the first occurance of an item we can get it like this.\n",
    "index = my_list.index('three')\n",
    "print (index)\n",
    "\n",
    "# Get indexes of all occurances of an item\n",
    "indexes = []\n",
    "for index, item in enumerate(my_list):\n",
    "    if item == 'three':\n",
    "        indexes.append(index)\n",
    "print (indexes)"
   ]
  },
  {
   "cell_type": "markdown",
   "metadata": {},
   "source": [
    "### Count Occurances of An Item - list.count(item)\n",
    "\n",
    "This handy command counts the number of occurances of a particular item."
   ]
  },
  {
   "cell_type": "code",
   "execution_count": 36,
   "metadata": {},
   "outputs": [
    {
     "name": "stdout",
     "output_type": "stream",
     "text": [
      "['one', 'two', 'three', 'one', 'four', 'five', 'one']\n",
      "3\n"
     ]
    }
   ],
   "source": [
    "my_list = ['one', 'two', 'three','one', 'four', 'five', 'one']\n",
    "print(my_list)\n",
    "\n",
    "print(my_list.count('one'))"
   ]
  },
  {
   "cell_type": "markdown",
   "metadata": {},
   "source": [
    "### Insert\n",
    "\n",
    "In the examples below we assume there are no duplicate items in the list.  For example, we assume we don't have two 'three's in the list."
   ]
  },
  {
   "cell_type": "code",
   "execution_count": 9,
   "metadata": {},
   "outputs": [
    {
     "name": "stdout",
     "output_type": "stream",
     "text": [
      "['one', 'two', 'five']\n",
      "['one', 'two', 'three', 'five']\n",
      "\n",
      "['one', 'two', 'three', 'four', 'five']\n"
     ]
    }
   ],
   "source": [
    "# Create a list\n",
    "my_list = ['one', 'two', 'five']\n",
    "print (my_list)\n",
    "    \n",
    "# Insert an item. The insert will go in front of the specified index.\n",
    "my_list.insert(2, 'three')\n",
    "print(my_list)\n",
    "print()\n",
    "\n",
    "# Insert another item in front of 'six'. This time let the program figure out the insertion index.\n",
    "index = my_list.index('five')\n",
    "my_list.insert(index, 'four')\n",
    "print(my_list)"
   ]
  },
  {
   "cell_type": "markdown",
   "metadata": {},
   "source": [
    "### Remove\n",
    "\n",
    "Remove an item **based on it's value**. By default command only removes the first occurance of the item. If you have duplicates write a remove loop. The Remove method doesn't return any values."
   ]
  },
  {
   "cell_type": "code",
   "execution_count": 31,
   "metadata": {},
   "outputs": [
    {
     "name": "stdout",
     "output_type": "stream",
     "text": [
      "['one', 'two', 'three', 'two', 'two']\n",
      "['one', 'three', 'two', 'two']\n",
      "['one', 'three']\n"
     ]
    }
   ],
   "source": [
    "# Create a list\n",
    "my_list = ['one', 'two', 'three', 'two', 'two']\n",
    "print (my_list)\n",
    "\n",
    "# Remove first occurance of an item\n",
    "my_list.remove('two')\n",
    "print(my_list)\n",
    "\n",
    "# Remove all occurances of an item.\n",
    "while 'two' in my_list:\n",
    "    my_list.remove('two')\n",
    "print (my_list)"
   ]
  },
  {
   "cell_type": "markdown",
   "metadata": {},
   "source": [
    "#### Checkpoint 1"
   ]
  },
  {
   "cell_type": "markdown",
   "metadata": {},
   "source": [
    "### Del (delete)\n",
    "\n",
    "Delete item **based on it's index**. This method doesn't return any values."
   ]
  },
  {
   "cell_type": "code",
   "execution_count": 33,
   "metadata": {},
   "outputs": [
    {
     "name": "stdout",
     "output_type": "stream",
     "text": [
      "  0  cats\n",
      "  1  dogs\n",
      "  2  rats\n",
      "  3  snakes\n",
      "  4  horses\n",
      "  5  unicorns\n",
      "\n",
      "  0  cats\n",
      "  1  dogs\n",
      "  2  snakes\n",
      "  3  horses\n",
      "  4  unicorns\n",
      "\n",
      "  0  cats\n",
      "  1  unicorns\n",
      "\n"
     ]
    }
   ],
   "source": [
    "# Create a list\n",
    "my_list = ['cats', 'dogs', 'rats', 'snakes', 'horses', 'unicorns']\n",
    "show_list(my_list)\n",
    "\n",
    "# Delete it by a known index.\n",
    "del my_list[2]\n",
    "show_list(my_list)\n",
    "\n",
    "# Handy for deleting subsets\n",
    "\n",
    "del my_list[1:4]\n",
    "show_list(my_list)\n"
   ]
  },
  {
   "cell_type": "markdown",
   "metadata": {},
   "source": [
    "### POP\n",
    "\n",
    "This removes the item at the specified index and returns it's value. After an item is popped the indexes of all the items after it are incremented."
   ]
  },
  {
   "cell_type": "code",
   "execution_count": 14,
   "metadata": {},
   "outputs": [
    {
     "name": "stdout",
     "output_type": "stream",
     "text": [
      "  0  one\n",
      "  1  two\n",
      "  2  three\n",
      "  3  four\n",
      "  4  six\n",
      "\n",
      "\n",
      "Popped the item at index 1 ('two') out of the previous list.\n",
      "  0  one\n",
      "  1  three\n",
      "  2  four\n",
      "  3  six\n",
      "\n",
      "\n",
      "Popped six off the end of the previous list.\n",
      "  0  one\n",
      "  1  three\n",
      "  2  four\n",
      "\n"
     ]
    }
   ],
   "source": [
    "# Create a list\n",
    "my_list = ['one', 'two', 'three', 'four', 'six']\n",
    "show_list(my_list)\n",
    "print()\n",
    "\n",
    "# Pop an item from the list and store its value.\n",
    "index = 1\n",
    "popped_item = my_list.pop(index)\n",
    "print(\"Popped the item at index %d ('%s') out of the previous list.\" % (index, popped_item))\n",
    "show_list(my_list)\n",
    "print()\n",
    "\n",
    "# By default, pop() gets the last item in the list\n",
    "popped_item = my_list.pop()\n",
    "print(\"Popped %s off the end of the previous list.\" % (popped_item))\n",
    "show_list(my_list)"
   ]
  },
  {
   "cell_type": "markdown",
   "metadata": {},
   "source": [
    "### Update"
   ]
  },
  {
   "cell_type": "code",
   "execution_count": 14,
   "metadata": {},
   "outputs": [
    {
     "name": "stdout",
     "output_type": "stream",
     "text": [
      "['one', 'two', 'three', 'four', 'six']\n",
      "['one', 'two', 'three', 'four', 'five']\n"
     ]
    }
   ],
   "source": [
    "# Create a list\n",
    "my_list = ['one', 'two', 'three', 'four', 'six']\n",
    "print (my_list)\n",
    "\n",
    "# Update based on the item index\n",
    "index = my_list.index('six')\n",
    "my_list[index] = 'five'\n",
    "print (my_list)"
   ]
  },
  {
   "cell_type": "markdown",
   "metadata": {},
   "source": [
    "### Len (length) method\n",
    "\n",
    "The list length can be used in many ways, to iterate, slice, and dice the list."
   ]
  },
  {
   "cell_type": "code",
   "execution_count": 42,
   "metadata": {},
   "outputs": [
    {
     "name": "stdout",
     "output_type": "stream",
     "text": [
      "  0  one\n",
      "  1  two\n",
      "  2  three\n",
      "  3  four\n",
      "  4  five\n",
      "  5  six\n",
      "\n",
      "6\n",
      "\n",
      "  0 one\n",
      "  2 three\n",
      "  4 five\n",
      "\n",
      "  0 one\n",
      "  2 three\n",
      "  4 five\n",
      "\n",
      "  1 two\n",
      "  3 four\n",
      "  5 six\n"
     ]
    }
   ],
   "source": [
    "# Create a list\n",
    "my_list = ['one', 'two', 'three', 'four', 'five', 'six']\n",
    "show_list(my_list)\n",
    "\n",
    "# Get the length of the list\n",
    "print(len(my_list))\n",
    "print()\n",
    "  \n",
    "# Print every other value\n",
    "for index in range(0, len(my_list), 2):\n",
    "    print (\"  \" + str(index) + \" \" + my_list[index])\n",
    "print()\n",
    "    \n",
    "# Another way to do it\n",
    "for index, item in enumerate(my_list):\n",
    "    if index % 2 == 0:\n",
    "       print(\"  \" + str(index) + \" \" + my_list[index]) \n",
    "print()\n",
    "    \n",
    "# Odd indexes\n",
    "# Another way to do it\n",
    "for index, item in enumerate(my_list):\n",
    "    if index % 2 == 1:\n",
    "       print(\"  \" + str(index) + \" \" + my_list[index]) "
   ]
  },
  {
   "cell_type": "markdown",
   "metadata": {},
   "source": [
    "### List comprehension"
   ]
  },
  {
   "cell_type": "code",
   "execution_count": 47,
   "metadata": {},
   "outputs": [
    {
     "name": "stdout",
     "output_type": "stream",
     "text": [
      "[0, 1, 2, 3, 4, 5, 6, 7, 8, 9, 10, 11]\n",
      "\n",
      "['zero', 'one', 'two', 'three', 'four', 'five']\n",
      "  0  zero\n",
      "  1  one\n",
      "  2  two\n",
      "  3  three\n",
      "  4  four\n",
      "  5  five\n",
      "\n"
     ]
    }
   ],
   "source": [
    "    \n",
    "# Use list comprehension to re-initialize the a list\n",
    "my_list = [x for x in range(0, 12)]\n",
    "print(my_list)\n",
    "print()\n",
    "\n",
    "indexes = [0, 1, 2, 3, 4, 5]\n",
    "source_list = ['zero', 'one', 'two', 'three', 'four', 'five']\n",
    "my_list = [source_list[index] for index in indexes]\n",
    "print(my_list)\n",
    "show_list(my_list)"
   ]
  },
  {
   "cell_type": "markdown",
   "metadata": {},
   "source": [
    "### List Tests\n",
    "\n",
    "* Is a list empty?\n",
    "* Does a particular variable exist and is it a list?"
   ]
  },
  {
   "cell_type": "code",
   "execution_count": 55,
   "metadata": {},
   "outputs": [
    {
     "name": "stdout",
     "output_type": "stream",
     "text": [
      "my_list is empty\n",
      "maybe_list is a list\n",
      "not_a_list, but is not a list\n",
      "no_list does not exist\n"
     ]
    }
   ],
   "source": [
    "# Test to see if the list is empty\n",
    "my_list = []\n",
    "not_a_list = \"some string\"\n",
    "\n",
    "# If you know for sure my_list is a list this test works.\n",
    "# Otherwise, wrap it in a try:...except: block (see below) so it doesn't throw an interruption\n",
    "if not my_list:\n",
    "    print(\"my_list is empty\")    \n",
    "    \n",
    "\n",
    "    # Test to see if the list variable exists and if it is a list\n",
    "maybe_list = []\n",
    "try:\n",
    "    if type(my_list) is list:\n",
    "        print (\"maybe_list is a list\")\n",
    "    else:\n",
    "        print (\"maybe_list is not a list\")\n",
    "except:\n",
    "    print (\"maybe_list does not exist\")\n",
    "\n",
    "try:\n",
    "    if type(not_a_list) is list:\n",
    "        print (\"not_a_list is a list\")\n",
    "    else:\n",
    "        print (\"not_a_list, but is not a list\")\n",
    "except:\n",
    "    print (\"not_a_lst does not exist\")\n",
    "\n",
    "\n",
    "try:\n",
    "    if type(no_list) is list:\n",
    "        print (\"no_list is a list\")\n",
    "    else:\n",
    "        print (\"no_list is not a list\")\n",
    "except:\n",
    "    print (\"no_list does not exist\")"
   ]
  },
  {
   "cell_type": "markdown",
   "metadata": {},
   "source": [
    "### List Operations On Strings"
   ]
  },
  {
   "cell_type": "code",
   "execution_count": 60,
   "metadata": {},
   "outputs": [
    {
     "name": "stdout",
     "output_type": "stream",
     "text": [
      "11\n",
      "\n",
      "  a\n",
      "  b\n",
      "  c\n",
      "  d\n",
      "  e\n",
      "  f\n",
      "  g\n",
      "  h\n",
      "  i\n",
      "  j\n",
      "  k\n",
      "\n",
      "f\n"
     ]
    }
   ],
   "source": [
    "# Strings, strings can be treated as lists of characters\n",
    "string_var = \"abcdefghijk\"\n",
    "print(len(string_var))\n",
    "print()\n",
    "\n",
    "for char in string_var:\n",
    "    print(\"  \" + char)\n",
    "print()\n",
    "    \n",
    "print(string_var[5])\n",
    "# And so on ...."
   ]
  },
  {
   "cell_type": "markdown",
   "metadata": {},
   "source": [
    "#### Checkpoint 2"
   ]
  },
  {
   "cell_type": "markdown",
   "metadata": {},
   "source": [
    "### Sort"
   ]
  },
  {
   "cell_type": "code",
   "execution_count": 64,
   "metadata": {},
   "outputs": [
    {
     "name": "stdout",
     "output_type": "stream",
     "text": [
      "['pear', 'grape', 'bananna', 'apple', 'pineapple']\n",
      "['apple', 'bananna', 'grape', 'pear', 'pineapple']\n",
      "\n",
      "['pear', 'grape', 'bananna', 'apple', 'pineapple']\n",
      "['apple', 'bananna', 'grape', 'pear', 'pineapple']\n"
     ]
    }
   ],
   "source": [
    "my_list = ['pear', 'grape', 'bananna', 'apple', 'pineapple']\n",
    "print(my_list)\n",
    "\n",
    "my_list.sort()\n",
    "print(my_list)\n",
    "print()\n",
    "\n",
    "# Note: sort() changes the contents of the original list.\n",
    "# If you don't want this make a copy first\n",
    "my_list = ['pear', 'grape', 'bananna', 'apple', 'pineapple']\n",
    "my_copy = my_list.copy()\n",
    "\n",
    "my_copy.sort()\n",
    "print(my_list)\n",
    "print(my_copy)"
   ]
  },
  {
   "cell_type": "markdown",
   "metadata": {},
   "source": [
    "### Reverse\n",
    "\n",
    "Reverses the order of items in a list. Changes the list. If this isn't the desired behavior, make a copy of the list and reverse the items in the copy."
   ]
  },
  {
   "cell_type": "code",
   "execution_count": 31,
   "metadata": {},
   "outputs": [
    {
     "name": "stdout",
     "output_type": "stream",
     "text": [
      "['pear', 'grape', 'bananna', 'apple', 'pineapple']\n",
      "\n",
      "['pineapple', 'apple', 'bananna', 'grape', 'pear']\n"
     ]
    }
   ],
   "source": [
    "my_list = ['pear', 'grape', 'bananna', 'apple', 'pineapple']\n",
    "print(my_list)\n",
    "\n",
    "my_list.reverse()\n",
    "print(my_list)"
   ]
  },
  {
   "cell_type": "markdown",
   "metadata": {},
   "source": [
    "## Sets\n",
    "\n",
    "* Sets don't allow duplicate items. I you try to 'add' a duplicate to a set it is simply ignored. \n",
    "* Sets are unorderd. Meaning items in a set won't necessarily be listed in the same order in which they were entered.\n",
    "* Sets are immutable. Meaning you can't update items in a set.\n",
    "* Searches in sets use hash tables, so searching large sets is much faster than searching lists. If you enumerate a set it will display an index, but you can't use the index for anything except maybe counting?\n",
    "\n",
    "\n",
    "Some of the stackoverflow folks think my_set = {} defines a set, but this is actually a dictionary - with a different set of methods and uses.\n",
    "\n",
    "Don't confuse set([list]) with ([list]). \n",
    "my_set = ([list]) yields a set. my_set(list) yields a tuple.\n",
    "\n",
    "We will discuss dictionaries and tuples in more detail later."
   ]
  },
  {
   "cell_type": "markdown",
   "metadata": {},
   "source": [
    "### Methods\n"
   ]
  },
  {
   "cell_type": "code",
   "execution_count": 50,
   "metadata": {},
   "outputs": [
    {
     "name": "stdout",
     "output_type": "stream",
     "text": [
      "add\n",
      "clear\n",
      "copy\n",
      "difference\n",
      "difference_update\n",
      "discard\n",
      "intersection\n",
      "intersection_update\n",
      "isdisjoint\n",
      "issubset\n",
      "issuperset\n",
      "pop\n",
      "remove\n",
      "symmetric_difference\n",
      "symmetric_difference_update\n",
      "union\n",
      "update\n"
     ]
    }
   ],
   "source": [
    "# Create a set\n",
    "my_set = set([]) \n",
    "\n",
    "# List the exposed methods\n",
    "show_methods(my_set)"
   ]
  },
  {
   "cell_type": "markdown",
   "metadata": {},
   "source": [
    "### Creating a Set\n",
    "\n",
    "Set's can be created or overwritten by direct assignment, but that's about it. They are good for holding lists of unique entries that you don't want to overwrite by accident."
   ]
  },
  {
   "cell_type": "code",
   "execution_count": 56,
   "metadata": {},
   "outputs": [
    {
     "name": "stdout",
     "output_type": "stream",
     "text": [
      "['apples', 'bannanas', 'grapes', 'pears', 'pineapples']\n",
      "\n",
      "{'grapes', 'pears', 'bannanas', 'apples', 'pineapples'}\n",
      "\n",
      "{'one', 'two', 'three'}\n",
      "(0, 'one')\n",
      "(1, 'two')\n",
      "(2, 'three')\n"
     ]
    },
    {
     "ename": "TypeError",
     "evalue": "'set' object does not support indexing",
     "output_type": "error",
     "traceback": [
      "\u001b[0;31m---------------------------------------------------------------------------\u001b[0m",
      "\u001b[0;31mTypeError\u001b[0m                                 Traceback (most recent call last)",
      "\u001b[0;32m<ipython-input-56-5b6ee917a104>\u001b[0m in \u001b[0;36m<module>\u001b[0;34m()\u001b[0m\n\u001b[1;32m     20\u001b[0m     \u001b[0;31m#print (my_set.index('three'))\u001b[0m\u001b[0;34m\u001b[0m\u001b[0;34m\u001b[0m\u001b[0m\n\u001b[1;32m     21\u001b[0m \u001b[0;34m\u001b[0m\u001b[0m\n\u001b[0;32m---> 22\u001b[0;31m \u001b[0mprint\u001b[0m \u001b[0;34m(\u001b[0m\u001b[0mmy_set\u001b[0m\u001b[0;34m[\u001b[0m\u001b[0;36m2\u001b[0m\u001b[0;34m]\u001b[0m\u001b[0;34m)\u001b[0m\u001b[0;34m\u001b[0m\u001b[0m\n\u001b[0m",
      "\u001b[0;31mTypeError\u001b[0m: 'set' object does not support indexing"
     ]
    }
   ],
   "source": [
    "# First, let's create a list to have something to compare to\n",
    "my_list = ['apples', 'bannanas', 'grapes', 'pears', 'pineapples']\n",
    "print(my_list)\n",
    "print()\n",
    "\n",
    "# Now let's create a set the same way and see what it prints\n",
    "# Note the syntax. We use the 'set' directive with a list as an argument\n",
    "my_set = set(['apples', 'bannanas', 'grapes', 'pears', 'pineapples'])\n",
    "print(my_set)\n",
    "print()\n",
    "\n",
    "# Note: We can overwrite the entire set by direct assignment\n",
    "my_set = set(['one', 'two', 'three'])\n",
    "print (my_set)\n",
    "\n",
    "for i in enumerate(my_set):\n",
    "    print (i)\n",
    "    \n",
    "# Note: Set's don't have a .index() meathod. Uncomment the following code and run it to see the error.\n",
    "    #print (my_set.index('three'))\n",
    "\n",
    "print (my_set[2])\n"
   ]
  },
  {
   "cell_type": "markdown",
   "metadata": {},
   "source": [
    "### Converting a List to a Set\n",
    "\n",
    "One creative use of sets is to remove duplicates from a list. To do this we need to know how to convert from list to set and back from set to list."
   ]
  },
  {
   "cell_type": "code",
   "execution_count": 40,
   "metadata": {},
   "outputs": [
    {
     "name": "stdout",
     "output_type": "stream",
     "text": [
      "<class 'list'>\n",
      "['one', 'two', 'three', 'one', 'one']\n",
      "\n",
      "<class 'set'>\n",
      "{'one', 'two', 'three'}\n",
      "\n",
      "add\n",
      "clear\n",
      "copy\n",
      "difference\n",
      "difference_update\n",
      "discard\n",
      "intersection\n",
      "intersection_update\n",
      "isdisjoint\n",
      "issubset\n",
      "issuperset\n",
      "pop\n",
      "remove\n",
      "symmetric_difference\n",
      "symmetric_difference_update\n",
      "union\n",
      "update\n",
      "\n",
      "<class 'list'>\n",
      "['one', 'two', 'three']\n",
      "\n",
      "append\n",
      "clear\n",
      "copy\n",
      "count\n",
      "extend\n",
      "index\n",
      "insert\n",
      "pop\n",
      "remove\n",
      "reverse\n",
      "sort\n",
      "\n",
      "add\n",
      "clear\n",
      "copy\n",
      "difference\n",
      "difference_update\n",
      "discard\n",
      "intersection\n",
      "intersection_update\n",
      "isdisjoint\n",
      "issubset\n",
      "issuperset\n",
      "pop\n",
      "remove\n",
      "symmetric_difference\n",
      "symmetric_difference_update\n",
      "union\n",
      "update\n"
     ]
    }
   ],
   "source": [
    "# Create a list with duplicates\n",
    "my_list = ['one', 'two', 'three', 'one', 'one']\n",
    "print(type(my_list))\n",
    "print(my_list)\n",
    "print()\n",
    "\n",
    "# Create a set from the list\n",
    "my_set = set(my_list)\n",
    "print(type(my_set))\n",
    "print(my_set)\n",
    "print()\n",
    "show_methods(my_set)\n",
    "print()\n",
    "\n",
    "# Recreate the list from the set\n",
    "my_list = list(my_set)\n",
    "print(type(my_list))\n",
    "print(my_list)\n",
    "print()\n",
    "\n",
    "show_methods(my_list)\n",
    "print()\n",
    "show_methods(my_set)"
   ]
  },
  {
   "cell_type": "markdown",
   "metadata": {},
   "source": [
    "## Dictionaries"
   ]
  },
  {
   "cell_type": "markdown",
   "metadata": {},
   "source": [
    "### Checkpoint 3"
   ]
  }
 ],
 "metadata": {
  "kernelspec": {
   "display_name": "Python 3",
   "language": "python",
   "name": "python3"
  },
  "language_info": {
   "codemirror_mode": {
    "name": "ipython",
    "version": 3
   },
   "file_extension": ".py",
   "mimetype": "text/x-python",
   "name": "python",
   "nbconvert_exporter": "python",
   "pygments_lexer": "ipython3",
   "version": "3.6.5"
  }
 },
 "nbformat": 4,
 "nbformat_minor": 2
}
