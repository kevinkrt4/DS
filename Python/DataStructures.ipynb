{
 "cells": [
  {
   "cell_type": "markdown",
   "metadata": {},
   "source": [
    "# Table of Contents: <a name=\"TOC\"></a>\n",
    "* [Markdown and Latex](#Markdown)\n",
    "* [Define Functions](#FuncDefs)\n",
    "* [Lists](#Lists)\n",
    "* [Sets](#Sets)\n",
    "* [Dictionaries](#Dictionaries)"
   ]
  },
  {
   "cell_type": "markdown",
   "metadata": {},
   "source": [
    "# Markdown and Latex <a name=\"Markdown\"></a>\n",
    "\n",
    "[TOC](#TOC)"
   ]
  },
  {
   "cell_type": "markdown",
   "metadata": {},
   "source": [
    "# Heading 1\n",
    "## Heading 2\n",
    "### Heading 3\n",
    "#### Heading 4\n",
    "##### Heading 5\n",
    "###### Heading 6\n",
    "\n",
    "\n",
    "Normal text.\n",
    "\n",
    "*Emphasised* text.\n",
    "\n",
    "**Strong** text.\n",
    "\n",
    "Unordered list:\n",
    "\n",
    "* Item 1\n",
    "* Item 2\n",
    "* Item 3\n",
    "\n",
    "Ordered list:\n",
    "\n",
    "1. Item 1\n",
    "2. Item 2\n",
    "3. Item 3\n",
    "\n",
    "\n",
    "This is an [inline link](http://example.com/).\n",
    "\n",
    "This is an [inline link with a title](http://example.com/ \"With a Title\").\n",
    "\n",
    "\n",
    "These are links by reference. Same result as above. Just a differnt way. This way is good if you have lots of links to include in your text. Here I can have a link to [Google][1], one to \n",
    "[Yahoo][2] and another to [MSN][3].\n",
    "\n",
    "[1]: http://google.com/        \"Google\"\n",
    "[2]: http://search.yahoo.com/  \"Yahoo Search\"\n",
    "[3]: http://search.msn.com/    \"MSN Search\"\n",
    "\n",
    "The references don't have to be numbers. They can be strings. The titles (\"Google\", \"Yahoo Search\", \"MSN Search\") are optional. Here are the same links with a different reference table. [Google][one], [Yahoo][two], [MSN][three].\n",
    "\n",
    "[one]: http://google.com/        \"Google\"\n",
    "[two]: http://search.yahoo.com/  \"Yahoo Search\"\n",
    "[three]: http://search.msn.com/    \"MSN Search\"\n",
    "\n",
    "\n",
    "### Latex\n",
    "\n",
    "Inline looks like this $y = mx +  b$.\n",
    "\n",
    "Display expression is done like this $$y = mx + b$$\n",
    "\n",
    "Here is standard form for an exponential function: $f(x) = a \\cdot e^x + b$.\n",
    "\n",
    "Display it with $$f(x) = a \\cdot e^x + b$$\n",
    "\n",
    "Show square root this way $$\\sqrt{x^2} = x$$\n",
    "\n",
    "Show $n^{th}$ root this way. $$\\sqrt[3]{x^3} = x$$\n",
    "\n",
    "Absolute value $$\\left|x + b\\right|$$.\n",
    "\n",
    "Multiplied by: $$a \\cdot \\left|x + b \\right| + c$$\n",
    "\n",
    "  or $$a \\times x$$ \n",
    "  \n",
    "  or $$a \\ast x$$ \n",
    "\n",
    "\n",
    "Here is a [List of Latex Symbols](https://oeis.org/wiki/List_of_LaTeX_mathematical_symbols \"Latex Symbols\")"
   ]
  },
  {
   "cell_type": "markdown",
   "metadata": {},
   "source": [
    "# Define Notebook Functions <a name=\"FuncDefs\"></a>\n",
    "\n",
    "These functions are used in various pieces of sample code below.\n",
    "\n",
    "[TOC](#TOC)"
   ]
  },
  {
   "cell_type": "code",
   "execution_count": 3,
   "metadata": {},
   "outputs": [],
   "source": [
    "import inspect\n",
    "\n",
    "def show_list(lst):\n",
    "    for index, item in enumerate(lst):\n",
    "        print (\"  \" + str(index) + \"  \" + str(item))\n",
    "    print()\n",
    "    \n",
    "def show_methods(obj):\n",
    "    for method, code in inspect.getmembers(obj):\n",
    "        if method[0] != '_':\n",
    "            print (method)"
   ]
  },
  {
   "cell_type": "markdown",
   "metadata": {},
   "source": [
    "# Lists <a name=\"Lists\"></a>\n",
    "\n",
    "[TOC](#TOC)"
   ]
  },
  {
   "cell_type": "markdown",
   "metadata": {},
   "source": [
    "## List Methods"
   ]
  },
  {
   "cell_type": "code",
   "execution_count": 2,
   "metadata": {},
   "outputs": [
    {
     "ename": "NameError",
     "evalue": "name 'show_methods' is not defined",
     "output_type": "error",
     "traceback": [
      "\u001b[0;31m---------------------------------------------------------------------------\u001b[0m",
      "\u001b[0;31mNameError\u001b[0m                                 Traceback (most recent call last)",
      "\u001b[0;32m<ipython-input-2-8cb69977b26d>\u001b[0m in \u001b[0;36m<module>\u001b[0;34m()\u001b[0m\n\u001b[1;32m      2\u001b[0m \u001b[0mmy_list\u001b[0m \u001b[0;34m=\u001b[0m \u001b[0;34m[\u001b[0m\u001b[0;34m]\u001b[0m\u001b[0;34m\u001b[0m\u001b[0m\n\u001b[1;32m      3\u001b[0m \u001b[0;34m\u001b[0m\u001b[0m\n\u001b[0;32m----> 4\u001b[0;31m \u001b[0mshow_methods\u001b[0m\u001b[0;34m(\u001b[0m\u001b[0mmy_list\u001b[0m\u001b[0;34m)\u001b[0m\u001b[0;34m\u001b[0m\u001b[0m\n\u001b[0m\u001b[1;32m      5\u001b[0m \u001b[0mprint\u001b[0m\u001b[0;34m(\u001b[0m\u001b[0;34m)\u001b[0m\u001b[0;34m\u001b[0m\u001b[0m\n\u001b[1;32m      6\u001b[0m \u001b[0;34m\u001b[0m\u001b[0m\n",
      "\u001b[0;31mNameError\u001b[0m: name 'show_methods' is not defined"
     ]
    }
   ],
   "source": [
    "# Methods from the list class\n",
    "my_list = []\n",
    "\n",
    "show_methods(my_list)\n",
    "print()\n",
    "\n",
    "# Additional operations that can be used on a list. See examples below.\n",
    "print ('del')\n",
    "print ('enumerate') # Used in loop control to list indexes of list items\n",
    "print ('set') # Used to convert a list to a set"
   ]
  },
  {
   "cell_type": "markdown",
   "metadata": {},
   "source": [
    "## list.append(item)\n",
    "Append one item to the end of a list."
   ]
  },
  {
   "cell_type": "code",
   "execution_count": null,
   "metadata": {},
   "outputs": [],
   "source": [
    "# Create a list\n",
    "my_list = ['one', 'two', 'three']\n",
    "print (my_list)"
   ]
  },
  {
   "cell_type": "code",
   "execution_count": 7,
   "metadata": {},
   "outputs": [
    {
     "name": "stdout",
     "output_type": "stream",
     "text": [
      "[]\n",
      "['one', 'two', 'three']\n",
      "['one', 'two', 'three', ['four', 'five', 'six']]\n"
     ]
    }
   ],
   "source": [
    "# Create an empty list\n",
    "my_list = []\n",
    "print (my_list)\n",
    "\n",
    "# Append to it\n",
    "my_list.append('one')\n",
    "my_list.append('two')\n",
    "my_list.append('three')\n",
    "print(my_list)\n",
    "\n",
    "# Item can be another list. Notice though that this appends the *from_list* object, not individual items \n",
    "# contained in *from_list*. To append individual items from *from_list* in one command use list.extend(item).\n",
    "from_list = ['four', 'five', 'six']\n",
    "my_list.append(from_list)\n",
    "print(my_list)"
   ]
  },
  {
   "cell_type": "markdown",
   "metadata": {},
   "source": [
    "## list.extend([item, ...])\n",
    "Append multiple items to a list with a single command. Extends *list* by appending each *item* to it.\n",
    "\n",
    "(Illustration here)"
   ]
  },
  {
   "cell_type": "code",
   "execution_count": 8,
   "metadata": {},
   "outputs": [
    {
     "name": "stdout",
     "output_type": "stream",
     "text": [
      "['one', 'two', 'three']\n",
      "['one', 'two', 'three', 'four', 'five', 'six']\n",
      "['one', 'two', 'three', 'four', 'five', 'six', 'seven', 'eight', 'nine']\n"
     ]
    }
   ],
   "source": [
    "# Create a list\n",
    "my_list = ['one', 'two', 'three']\n",
    "print (my_list)\n",
    "\n",
    "# Extend it\n",
    "my_list.extend(['four', 'five', 'six'])\n",
    "print(my_list)\n",
    "\n",
    "# Create another list\n",
    "from_list = ['seven', 'eight', 'nine']\n",
    "\n",
    "# Use the new list to further extend the original. Notice this command appends the indivual items contained in\n",
    "# *from_list* to *my_list*.\n",
    "my_list.extend(from_list)\n",
    "print(my_list)"
   ]
  },
  {
   "cell_type": "markdown",
   "metadata": {},
   "source": [
    "## list_copy = list.copy()\n",
    "Returns a reference to a stand-alone copy of *list* and names the reference *list_copy*.\n",
    "\n",
    "(Insert illustration here)"
   ]
  },
  {
   "cell_type": "code",
   "execution_count": 3,
   "metadata": {},
   "outputs": [
    {
     "name": "stdout",
     "output_type": "stream",
     "text": [
      "['one', 'two', 'three']\n",
      "['one', 'two', 'three']\n",
      "['one', 'two', 'three', 'four']\n",
      "['one', 'two', 'three']\n"
     ]
    }
   ],
   "source": [
    "# Create a list\n",
    "my_list = ['one', 'two', 'three']\n",
    "print (my_list)\n",
    "\n",
    "# Make a copy of it\n",
    "my_list_copy = my_list.copy()\n",
    "print(my_list_copy)\n",
    "\n",
    "\n",
    "# Clear it\n",
    "my_list_copy.append('four')\n",
    "print(my_list_copy)\n",
    "print(my_list)\n",
    "\n",
    "# Note here that only contents of the copy changed. The original is left untouched. This is because the .copy()\n",
    "# method creates a new, independent memory space for the copy."
   ]
  },
  {
   "cell_type": "markdown",
   "metadata": {},
   "source": [
    "## list_copy = list\n",
    "Setting *list_copy* = *list* might be a little misleading. This command doesn't create a stand-alone copy of *list*. It creates a pointer reference to the memory location of *list* and gives the pointer the name *list_copy*. Any changes made to either *list* or *list_copy* will be reflected by both references (list names) to that memory area.\n",
    "\n",
    "(Insert illustration here)"
   ]
  },
  {
   "cell_type": "code",
   "execution_count": 2,
   "metadata": {},
   "outputs": [
    {
     "name": "stdout",
     "output_type": "stream",
     "text": [
      "['one', 'two', 'three']\n",
      "['one', 'two', 'three']\n",
      "['one', 'two', 'three', 'four']\n",
      "['one', 'two', 'three', 'four']\n"
     ]
    }
   ],
   "source": [
    "# Create a list\n",
    "my_list = ['one', 'two', 'three']\n",
    "print (my_list)\n",
    "\n",
    "# Create a new reference to my_list\n",
    "my_list_copy = my_list\n",
    "print(my_list_copy)\n",
    "\n",
    "# Now modify the contents of the new reference. What happens to the contents of each list?\n",
    "my_list_copy.append('four')\n",
    "print(my_list_copy)\n",
    "print(my_list)\n",
    "\n",
    "# See how changing the copy also changed the original? This is because the copy of the name reference and the original\n",
    "# name reference are pointing to the same memory location."
   ]
  },
  {
   "cell_type": "markdown",
   "metadata": {},
   "source": [
    "### Get Item Index"
   ]
  },
  {
   "cell_type": "code",
   "execution_count": 35,
   "metadata": {},
   "outputs": [
    {
     "name": "stdout",
     "output_type": "stream",
     "text": [
      "['one', 'two', 'three', 'four', 'five', 'six']\n",
      "\n",
      "  0 one\n",
      "  1 two\n",
      "  2 three\n",
      "  3 four\n",
      "  4 five\n",
      "  5 six\n"
     ]
    }
   ],
   "source": [
    "# Create a list\n",
    "my_list = ['one', 'two', 'three', 'four', 'five', 'six']\n",
    "print(my_list)\n",
    "\n",
    "# Spin through and print out all the indexes and items.\n",
    "# This is what we are doing in our show_list function.\n",
    "print()\n",
    "for index, item in enumerate(my_list):\n",
    "    print (\"  \" + str(index) + \" \" + item)"
   ]
  },
  {
   "cell_type": "code",
   "execution_count": 2,
   "metadata": {},
   "outputs": [
    {
     "name": "stdout",
     "output_type": "stream",
     "text": [
      "['one', 'two', 'three', 'four', 'five', 'three']\n",
      "2\n",
      "[2, 5]\n"
     ]
    }
   ],
   "source": [
    "# Create a list\n",
    "my_list = ['one', 'two', 'three', 'four', 'five', 'three']\n",
    "print (my_list)\n",
    "\n",
    "# If we just want the index of the first occurance of an item we can get it like this.\n",
    "index = my_list.index('three')\n",
    "print (index)\n",
    "\n",
    "# Get indexes of all occurances of an item\n",
    "indexes = []\n",
    "for index, item in enumerate(my_list):\n",
    "    if item == 'three':\n",
    "        indexes.append(index)\n",
    "print (indexes)"
   ]
  },
  {
   "cell_type": "markdown",
   "metadata": {},
   "source": [
    "## .count(item)\n",
    "\n",
    "Counts the number of occurances of *item* in the list."
   ]
  },
  {
   "cell_type": "code",
   "execution_count": 36,
   "metadata": {},
   "outputs": [
    {
     "name": "stdout",
     "output_type": "stream",
     "text": [
      "['one', 'two', 'three', 'one', 'four', 'five', 'one']\n",
      "3\n"
     ]
    }
   ],
   "source": [
    "my_list = ['one', 'two', 'three','one', 'four', 'five', 'one']\n",
    "print(my_list)\n",
    "\n",
    "print(my_list.count('one'))"
   ]
  },
  {
   "cell_type": "markdown",
   "metadata": {},
   "source": [
    "## .insert(index, item)\n",
    "\n",
    "Insert *item* in front of the specified *index*."
   ]
  },
  {
   "cell_type": "code",
   "execution_count": 9,
   "metadata": {},
   "outputs": [
    {
     "name": "stdout",
     "output_type": "stream",
     "text": [
      "['one', 'two', 'five']\n",
      "['one', 'two', 'three', 'five']\n",
      "\n",
      "['one', 'two', 'three', 'four', 'five']\n"
     ]
    }
   ],
   "source": [
    "# Create a list\n",
    "my_list = ['one', 'two', 'five']\n",
    "print (my_list)\n",
    "    \n",
    "# Insert an item. The insert will go in front of the specified index.\n",
    "my_list.insert(2, 'three')\n",
    "print(my_list)\n",
    "print()\n",
    "\n",
    "# Insert another item in front of 'six'. This time let the program figure out the insertion index.\n",
    "index = my_list.index('five')\n",
    "my_list.insert(index, 'four')\n",
    "print(my_list)"
   ]
  },
  {
   "cell_type": "markdown",
   "metadata": {},
   "source": [
    "## .remove(item)\n",
    "\n",
    "Remove an item **based on it's value**. By default command only removes the first occurance of the item. If you have duplicates write a remove loop. The Remove method doesn't return any values."
   ]
  },
  {
   "cell_type": "code",
   "execution_count": 31,
   "metadata": {},
   "outputs": [
    {
     "name": "stdout",
     "output_type": "stream",
     "text": [
      "['one', 'two', 'three', 'two', 'two']\n",
      "['one', 'three', 'two', 'two']\n",
      "['one', 'three']\n"
     ]
    }
   ],
   "source": [
    "# Create a list\n",
    "my_list = ['one', 'two', 'three', 'two', 'two']\n",
    "print (my_list)\n",
    "\n",
    "# Remove first occurance of an item\n",
    "my_list.remove('two')\n",
    "print(my_list)\n",
    "\n",
    "# Remove all occurances of an item.\n",
    "while 'two' in my_list:\n",
    "    my_list.remove('two')\n",
    "print (my_list)"
   ]
  },
  {
   "cell_type": "markdown",
   "metadata": {},
   "source": [
    "#### Checkpoint 1"
   ]
  },
  {
   "cell_type": "markdown",
   "metadata": {},
   "source": [
    "## Delete Command - del list[index]\n",
    "\n",
    "Delete item **based on it's index**. This method doesn't return any values."
   ]
  },
  {
   "cell_type": "code",
   "execution_count": 33,
   "metadata": {},
   "outputs": [
    {
     "name": "stdout",
     "output_type": "stream",
     "text": [
      "  0  cats\n",
      "  1  dogs\n",
      "  2  rats\n",
      "  3  snakes\n",
      "  4  horses\n",
      "  5  unicorns\n",
      "\n",
      "  0  cats\n",
      "  1  dogs\n",
      "  2  snakes\n",
      "  3  horses\n",
      "  4  unicorns\n",
      "\n",
      "  0  cats\n",
      "  1  unicorns\n",
      "\n"
     ]
    }
   ],
   "source": [
    "# Create a list\n",
    "my_list = ['cats', 'dogs', 'rats', 'snakes', 'horses', 'unicorns']\n",
    "show_list(my_list)\n",
    "\n",
    "# Delete it by a known index.\n",
    "del my_list[2]\n",
    "show_list(my_list)\n",
    "\n",
    "# Handy for deleting subsets\n",
    "\n",
    "del my_list[1:4]\n",
    "show_list(my_list)\n"
   ]
  },
  {
   "cell_type": "markdown",
   "metadata": {},
   "source": [
    "## .pop([index])\n",
    "\n",
    "This removes the item at the specified index and returns it's value. After an item is popped the indexes of all the items after it are incremented."
   ]
  },
  {
   "cell_type": "code",
   "execution_count": 14,
   "metadata": {},
   "outputs": [
    {
     "name": "stdout",
     "output_type": "stream",
     "text": [
      "  0  one\n",
      "  1  two\n",
      "  2  three\n",
      "  3  four\n",
      "  4  six\n",
      "\n",
      "\n",
      "Popped the item at index 1 ('two') out of the previous list.\n",
      "  0  one\n",
      "  1  three\n",
      "  2  four\n",
      "  3  six\n",
      "\n",
      "\n",
      "Popped six off the end of the previous list.\n",
      "  0  one\n",
      "  1  three\n",
      "  2  four\n",
      "\n"
     ]
    }
   ],
   "source": [
    "# Create a list\n",
    "my_list = ['one', 'two', 'three', 'four', 'six']\n",
    "show_list(my_list)\n",
    "print()\n",
    "\n",
    "# Pop an item from the list and store its value.\n",
    "index = 1\n",
    "popped_item = my_list.pop(index)\n",
    "print(\"Popped the item at index %d ('%s') out of the previous list.\" % (index, popped_item))\n",
    "show_list(my_list)\n",
    "print()\n",
    "\n",
    "# By default, pop() gets the last item in the list\n",
    "popped_item = my_list.pop()\n",
    "print(\"Popped %s off the end of the previous list.\" % (popped_item))\n",
    "show_list(my_list)"
   ]
  },
  {
   "cell_type": "markdown",
   "metadata": {},
   "source": [
    "## Updating a List Value"
   ]
  },
  {
   "cell_type": "code",
   "execution_count": 14,
   "metadata": {},
   "outputs": [
    {
     "name": "stdout",
     "output_type": "stream",
     "text": [
      "['one', 'two', 'three', 'four', 'six']\n",
      "['one', 'two', 'three', 'four', 'five']\n"
     ]
    }
   ],
   "source": [
    "# Create a list\n",
    "my_list = ['one', 'two', 'three', 'four', 'six']\n",
    "print (my_list)\n",
    "\n",
    "# Update based on the item index\n",
    "index = my_list.index('six')\n",
    "my_list[index] = 'five'\n",
    "print (my_list)"
   ]
  },
  {
   "cell_type": "markdown",
   "metadata": {},
   "source": [
    "## len(list)\n",
    "\n",
    "Counts the total number of items in a list."
   ]
  },
  {
   "cell_type": "code",
   "execution_count": 17,
   "metadata": {},
   "outputs": [
    {
     "name": "stdout",
     "output_type": "stream",
     "text": [
      "5\n",
      "\n",
      "6\n",
      "\n"
     ]
    }
   ],
   "source": [
    "# Get length of a list\n",
    "print (len([1, 2, 3, 4, 5]))\n",
    "print()\n",
    "\n",
    "# Get the length of another list\n",
    "my_list = ['one', 'two', 'three', 'four', 'five', 'six']\n",
    "print(len(my_list))\n",
    "print()\n",
    "  \n"
   ]
  },
  {
   "cell_type": "markdown",
   "metadata": {},
   "source": [
    "## List comprehension\n",
    "List comprehension is a compact syntax for processing lists."
   ]
  },
  {
   "cell_type": "code",
   "execution_count": 47,
   "metadata": {},
   "outputs": [
    {
     "name": "stdout",
     "output_type": "stream",
     "text": [
      "[0, 1, 2, 3, 4, 5, 6, 7, 8, 9, 10, 11]\n",
      "\n",
      "['zero', 'one', 'two', 'three', 'four', 'five']\n",
      "  0  zero\n",
      "  1  one\n",
      "  2  two\n",
      "  3  three\n",
      "  4  four\n",
      "  5  five\n",
      "\n"
     ]
    }
   ],
   "source": [
    "    \n",
    "# Use list comprehension to re-initialize the a list\n",
    "my_list = [x for x in range(0, 12)]\n",
    "print(my_list)\n",
    "print()\n",
    "\n",
    "indexes = [0, 1, 2, 3, 4, 5]\n",
    "source_list = ['zero', 'one', 'two', 'three', 'four', 'five']\n",
    "my_list = [source_list[index] for index in indexes]\n",
    "print(my_list)\n",
    "show_list(my_list)"
   ]
  },
  {
   "cell_type": "markdown",
   "metadata": {},
   "source": [
    "## List Tests\n",
    "\n",
    "* Is a list empty?\n",
    "* Does a particular variable exist and is it a list?"
   ]
  },
  {
   "cell_type": "code",
   "execution_count": 55,
   "metadata": {},
   "outputs": [
    {
     "name": "stdout",
     "output_type": "stream",
     "text": [
      "my_list is empty\n",
      "maybe_list is a list\n",
      "not_a_list, but is not a list\n",
      "no_list does not exist\n"
     ]
    }
   ],
   "source": [
    "# Test to see if the list is empty\n",
    "my_list = []\n",
    "not_a_list = \"some string\"\n",
    "\n",
    "# If you know for sure my_list is a list this test works.\n",
    "# Otherwise, wrap it in a try:...except: block (see below) so it doesn't throw an interruption\n",
    "if not my_list:\n",
    "    print(\"my_list is empty\")    \n",
    "    \n",
    "\n",
    "    # Test to see if the list variable exists and if it is a list\n",
    "maybe_list = []\n",
    "try:\n",
    "    if type(my_list) is list:\n",
    "        print (\"maybe_list is a list\")\n",
    "    else:\n",
    "        print (\"maybe_list is not a list\")\n",
    "except:\n",
    "    print (\"maybe_list does not exist\")\n",
    "\n",
    "try:\n",
    "    if type(not_a_list) is list:\n",
    "        print (\"not_a_list is a list\")\n",
    "    else:\n",
    "        print (\"not_a_list, but is not a list\")\n",
    "except:\n",
    "    print (\"not_a_lst does not exist\")\n",
    "\n",
    "\n",
    "try:\n",
    "    if type(no_list) is list:\n",
    "        print (\"no_list is a list\")\n",
    "    else:\n",
    "        print (\"no_list is not a list\")\n",
    "except:\n",
    "    print (\"no_list does not exist\")"
   ]
  },
  {
   "cell_type": "markdown",
   "metadata": {},
   "source": [
    "## Strings"
   ]
  },
  {
   "cell_type": "code",
   "execution_count": 60,
   "metadata": {},
   "outputs": [
    {
     "name": "stdout",
     "output_type": "stream",
     "text": [
      "11\n",
      "\n",
      "  a\n",
      "  b\n",
      "  c\n",
      "  d\n",
      "  e\n",
      "  f\n",
      "  g\n",
      "  h\n",
      "  i\n",
      "  j\n",
      "  k\n",
      "\n",
      "f\n"
     ]
    }
   ],
   "source": [
    "# Strings, strings can be treated as lists of characters\n",
    "string_var = \"abcdefghijk\"\n",
    "print(len(string_var))\n",
    "print()\n",
    "\n",
    "for char in string_var:\n",
    "    print(\"  \" + char)\n",
    "print()\n",
    "    \n",
    "print(string_var[5])\n",
    "# And so on ...."
   ]
  },
  {
   "cell_type": "markdown",
   "metadata": {},
   "source": [
    "#### Checkpoint 2"
   ]
  },
  {
   "cell_type": "markdown",
   "metadata": {},
   "source": [
    "## Sort"
   ]
  },
  {
   "cell_type": "code",
   "execution_count": 64,
   "metadata": {},
   "outputs": [
    {
     "name": "stdout",
     "output_type": "stream",
     "text": [
      "['pear', 'grape', 'bananna', 'apple', 'pineapple']\n",
      "['apple', 'bananna', 'grape', 'pear', 'pineapple']\n",
      "\n",
      "['pear', 'grape', 'bananna', 'apple', 'pineapple']\n",
      "['apple', 'bananna', 'grape', 'pear', 'pineapple']\n"
     ]
    }
   ],
   "source": [
    "my_list = ['pear', 'grape', 'banana', 'apple', 'pineapple']\n",
    "print(my_list)\n",
    "\n",
    "my_list.sort()\n",
    "print(my_list)\n",
    "print()\n",
    "\n",
    "# Note: sort() changes the contents of the original list.\n",
    "# If you don't want this make a copy first\n",
    "my_list = ['pear', 'grape', 'banana', 'apple', 'pineapple']\n",
    "my_copy = my_list.copy()\n",
    "\n",
    "my_copy.sort()\n",
    "print(my_list)\n",
    "print(my_copy)"
   ]
  },
  {
   "cell_type": "markdown",
   "metadata": {},
   "source": [
    "## Reverse\n",
    "\n",
    "Reverses the order of items in a list. Changes the list. If this isn't the desired behavior, make a copy of the list and reverse the items in the copy."
   ]
  },
  {
   "cell_type": "code",
   "execution_count": 31,
   "metadata": {},
   "outputs": [
    {
     "name": "stdout",
     "output_type": "stream",
     "text": [
      "['pear', 'grape', 'bananna', 'apple', 'pineapple']\n",
      "\n",
      "['pineapple', 'apple', 'bananna', 'grape', 'pear']\n"
     ]
    }
   ],
   "source": [
    "my_list = ['pear', 'grape', 'banana', 'apple', 'pineapple']\n",
    "print(my_list)\n",
    "\n",
    "my_list.reverse()\n",
    "print(my_list)"
   ]
  },
  {
   "cell_type": "markdown",
   "metadata": {},
   "source": [
    "# Sets <a name=\"Sets\"></a>\n",
    "\n",
    "\n",
    "* Sets don't allow duplicate items. I you try to 'add' a duplicate to a set it is simply ignored. \n",
    "* Sets are unorderd. Meaning items in a set won't necessarily be listed in the same order in which they were entered.\n",
    "* Items in a set are immutable. YOu can add and discard items, but you can't directly modify them.\n",
    "* Searches in sets use hash tables, so searching large sets is much faster than searching lists. \n",
    "\n",
    "https://www.programiz.com/python-programming/methods\n",
    "\n",
    "[TOC](#TOC)"
   ]
  },
  {
   "cell_type": "markdown",
   "metadata": {},
   "source": [
    "## Set Methods\n"
   ]
  },
  {
   "cell_type": "code",
   "execution_count": 50,
   "metadata": {},
   "outputs": [
    {
     "name": "stdout",
     "output_type": "stream",
     "text": [
      "add\n",
      "clear\n",
      "copy\n",
      "difference\n",
      "difference_update\n",
      "discard\n",
      "intersection\n",
      "intersection_update\n",
      "isdisjoint\n",
      "issubset\n",
      "issuperset\n",
      "pop\n",
      "remove\n",
      "symmetric_difference\n",
      "symmetric_difference_update\n",
      "union\n",
      "update\n"
     ]
    }
   ],
   "source": [
    "# Create an empty set\n",
    "my_set = set([]) \n",
    "\n",
    "# List the exposed methods\n",
    "show_methods(my_set)"
   ]
  },
  {
   "cell_type": "markdown",
   "metadata": {},
   "source": [
    "## Creating a Set\n",
    "\n",
    "Set's can be created or overwritten by direct assignment, but that's about it. They are good for holding lists of unique entries that you don't want to overwrite by accident."
   ]
  },
  {
   "cell_type": "code",
   "execution_count": 28,
   "metadata": {},
   "outputs": [
    {
     "name": "stdout",
     "output_type": "stream",
     "text": [
      "<class 'set'>\n",
      "{'pears', 'grapes', 'bannanas', 'apples', 'pineapples'}\n",
      "\n",
      "<class 'list'>\n",
      "['apples', 'bannanas', 'grapes', 'pears', 'pineapples']\n",
      "\n",
      "{'three', 'one', 'two'}\n",
      "\n",
      "(0, 'three')\n",
      "(1, 'one')\n",
      "(2, 'two')\n",
      "\n",
      "<class 'set'>\n",
      "<class 'dict'>\n"
     ]
    }
   ],
   "source": [
    "# Create a set\n",
    "# Remember, set's are unordered. When we print the set items may not show in input order. \n",
    "my_set = set(['apples', 'bananas', 'grapes', 'pears', 'pineapples'])\n",
    "print (type(my_set))\n",
    "print(my_set)\n",
    "print()\n",
    "\n",
    "# Create a list to have something to compare to\n",
    "# Notice that the list retains the input order.\n",
    "my_list = ['apples', 'bananas', 'grapes', 'pears', 'pineapples']\n",
    "print (type(my_list))\n",
    "print(my_list)\n",
    "print()\n",
    "\n",
    "# We can overwrite the entire set by direct assignment.\n",
    "my_set = set(['one', 'two', 'three'])\n",
    "print (my_set)\n",
    "print()\n",
    "\n",
    "#####  Give this block it's own section later in the chapter.   #######\n",
    "# We can list the enumerated set, but we can't use the indexes.\n",
    "# Since we can't use set indexes and there is no set method to update a set value (see Set Methods above), we \n",
    "# can't directly update items in a set. We can remove an item and then add a new item to replace it, but \n",
    "# this isn't quite the same as what we can do with list indexes. The moral of this is \"if you need to be able\n",
    "# to update individual items in place use a list\". We will give some examples of the difference later in the\n",
    "# chapter.\n",
    "for entry in enumerate(my_set):\n",
    "    print (entry)\n",
    "print()\n",
    "#######################################################################\n",
    "    \n",
    "# Note that we used the set([]) command above to create the set. If you are initializing a set with multiple values\n",
    "# in it you can use braces instead.\n",
    "my_set = {'one', 'two', 'three'}\n",
    "print (type(my_set))\n",
    "\n",
    "# If you try to use braces to create an empty set you get a dictionary object instead.\n",
    "# To avoid confusion just use the set([]) command.\n",
    "my_set = {}\n",
    "print (type(my_set))\n"
   ]
  },
  {
   "cell_type": "markdown",
   "metadata": {},
   "source": [
    "## set.add(item)\n",
    "Adds *item* to the set. Note, this is not *appending* the item because sets are *unordered*. That's why we use .add(item) on sets instead of .append(item) as we do with lists."
   ]
  },
  {
   "cell_type": "code",
   "execution_count": 31,
   "metadata": {},
   "outputs": [
    {
     "name": "stdout",
     "output_type": "stream",
     "text": [
      "{'three', 'one', 'two'}\n",
      "\n",
      "{'three', 'one', 'four', 'two'}\n"
     ]
    }
   ],
   "source": [
    "# Create a set\n",
    "# We could also have used braces here my_set={'one', 'two', 'three'}\n",
    "my_set = set(['one', 'two', 'three'])\n",
    "print(my_set)\n",
    "print()\n",
    "\n",
    "# Add an item to the set. Can only add one item at a time.\n",
    "my_set.add('four')\n",
    "print (my_set)"
   ]
  },
  {
   "cell_type": "markdown",
   "metadata": {},
   "source": [
    "## set.clear()\n",
    "Removes all items from the set"
   ]
  },
  {
   "cell_type": "code",
   "execution_count": 36,
   "metadata": {},
   "outputs": [
    {
     "name": "stdout",
     "output_type": "stream",
     "text": [
      "<class 'set'>\n",
      "3\n",
      "{'three', 'one', 'two'}\n",
      "\n",
      "<class 'set'>\n",
      "0\n",
      "set()\n"
     ]
    }
   ],
   "source": [
    "my_set = {'one', 'two', 'three'}\n",
    "print(type(my_set))\n",
    "print (len(my_set))\n",
    "print (my_set)\n",
    "print()\n",
    "\n",
    "my_set.clear()\n",
    "print(type(my_set))\n",
    "print (len(my_set))\n",
    "print(my_set)"
   ]
  },
  {
   "cell_type": "markdown",
   "metadata": {},
   "source": [
    "## new_set = set.copy()\n",
    "\n",
    "Copy a set to a new, separate set. The new set points to a separate memory location, so changes to either set only effect that set."
   ]
  },
  {
   "cell_type": "code",
   "execution_count": 64,
   "metadata": {},
   "outputs": [
    {
     "name": "stdout",
     "output_type": "stream",
     "text": [
      "<class 'set'>\n",
      "3\n",
      "{'banannas', 'oranges', 'apples'}\n",
      "\n",
      "<class 'set'>\n",
      "3\n",
      "{'banannas', 'oranges', 'apples'}\n",
      "\n",
      "{'banannas', 'oranges', 'apples'}\n",
      "{'banannas', 'oranges', 'peaches', 'apples'}\n",
      "\n",
      "{'banannas', 'oranges', 'apples'}\n",
      "{'banannas', 'oranges', 'pears', 'apples'}\n",
      "{'banannas', 'oranges', 'pears', 'apples'}\n",
      "\n"
     ]
    }
   ],
   "source": [
    "# Create a set\n",
    "my_set = {'apples', 'bananas', 'oranges'}\n",
    "print(type(my_set))\n",
    "print (len(my_set))\n",
    "print (my_set)\n",
    "print()\n",
    "\n",
    "# Make a copy of the original set\n",
    "copy_set = my_set.copy()\n",
    "print(type(copy_set))\n",
    "print (len(copy_set))\n",
    "print (copy_set)\n",
    "print()\n",
    "\n",
    "# Make a change to the copy\n",
    "copy_set.add('peaches')\n",
    "\n",
    "# Show contents of both sets. Note the change to the copy didn't effect the original.\n",
    "print(my_set)\n",
    "print(copy_set)\n",
    "print()\n",
    "\n",
    "# Try *copy_set = my_set*\n",
    "copy_set = my_set\n",
    "print(copy_set)\n",
    "\n",
    "# Now make a change to it and observe contents of both sets after the change.\n",
    "# Notice that *copy_set = my_set* makes *copy_set* point to the same memory location as *my_set*, so\n",
    "# changes to either pointer reference(my_set or copy_set) are reflected by references to the other\n",
    "# pointer reference\n",
    "copy_set.add('pears')\n",
    "print(my_set)\n",
    "print(copy_set)\n",
    "print()"
   ]
  },
  {
   "cell_type": "markdown",
   "metadata": {},
   "source": [
    "## set1.difference(set2)\n",
    "Returns the items in set1 that don't exist in set 2."
   ]
  },
  {
   "cell_type": "code",
   "execution_count": 66,
   "metadata": {},
   "outputs": [
    {
     "name": "stdout",
     "output_type": "stream",
     "text": [
      "{'oranges', 'bannanas'}\n",
      "\n",
      "<class 'list'>\n",
      "['bannanas', 'oranges']\n"
     ]
    }
   ],
   "source": [
    "set1 = {'apples', 'bananas', 'oranges', 'peaches', 'pears'}\n",
    "set2 = {'apples', 'peaches', 'pears'}\n",
    "diff_set = set1.difference(set2)\n",
    "print(diff_set)\n",
    "print()\n",
    "\n",
    "# Show them in order\n",
    "my_list = list(diff_set)\n",
    "print(type(my_list))\n",
    "my_list.sort()\n",
    "print(my_list)"
   ]
  },
  {
   "cell_type": "markdown",
   "metadata": {},
   "source": [
    "## set1.difference_update(set2)\n",
    "Updates set1 with the difference between set1 and set2."
   ]
  },
  {
   "cell_type": "code",
   "execution_count": 71,
   "metadata": {},
   "outputs": [
    {
     "name": "stdout",
     "output_type": "stream",
     "text": [
      "{'pears', 'bannanas', 'apples', 'oranges', 'pineapples', 'peaches'}\n",
      "\n",
      "{'bannanas', 'oranges', 'pineapples'}\n"
     ]
    }
   ],
   "source": [
    "set1 = {'apples', 'bananas', 'oranges', 'peaches', 'pears', 'pineapples'}\n",
    "set2 = {'apples', 'peaches', 'pears'}\n",
    "print(set1)\n",
    "print()\n",
    "\n",
    "set1.difference_update(set2)\n",
    "print(set1)"
   ]
  },
  {
   "cell_type": "markdown",
   "metadata": {},
   "source": [
    "## set.discard(item)\n",
    "Deletes an item from the set.\n",
    "\n",
    "In the example below we are also demonstrating use of the 'in' operator to see if *item* is in\n",
    "the set."
   ]
  },
  {
   "cell_type": "code",
   "execution_count": 8,
   "metadata": {},
   "outputs": [
    {
     "name": "stdout",
     "output_type": "stream",
     "text": [
      "{'oranges', 'bannanas', 'peaches', 'pears', 'pineapples', 'apples'}\n",
      "found oranges\n",
      "discarded oranges\n",
      "{'bannanas', 'peaches', 'pears', 'pineapples', 'apples'}\n"
     ]
    }
   ],
   "source": [
    "my_set = {'apples', 'bananas', 'oranges', 'peaches', 'pears', 'pineapples'}\n",
    "print (my_set)\n",
    "\n",
    "fruit = 'oranges'\n",
    "if 'oranges' in my_set:\n",
    "    print('found ' + fruit)\n",
    "else:\n",
    "    print(fruit + ' not found')   \n",
    "my_set.discard('oranges')\n",
    "\n",
    "if 'oranges' in my_set:\n",
    "    print('found ' + fruit)\n",
    "else:\n",
    "    print('discarded ' + fruit)\n",
    "    print(my_set)"
   ]
  },
  {
   "cell_type": "markdown",
   "metadata": {},
   "source": [
    "## new_set = set1.intersection(set2)\n",
    "Matches items from *set1* against items in *set2*. Returns a new set of the matching items."
   ]
  },
  {
   "cell_type": "code",
   "execution_count": 1,
   "metadata": {},
   "outputs": [
    {
     "name": "stdout",
     "output_type": "stream",
     "text": [
      "<class 'set'>\n",
      "{'apples', 'peaches', 'pears'}\n"
     ]
    }
   ],
   "source": [
    "set1 = {'apples', 'bananas', 'oranges', 'peaches', 'pears', 'pineapples'}\n",
    "set2 = {'apples', 'peaches', 'pears'}\n",
    "\n",
    "# Match items from *set1* against items in *set2*. Store the set of matching items in *new_set*.\n",
    "new_set = set1.intersection(set2)\n",
    "print (type(new_set))\n",
    "print (new_set)"
   ]
  },
  {
   "cell_type": "markdown",
   "metadata": {},
   "source": [
    "## set1.intersection_update(set2)\n",
    "Matches items from *set1* against items in *set2* overwrites *set1* with the set of matching items."
   ]
  },
  {
   "cell_type": "code",
   "execution_count": 2,
   "metadata": {},
   "outputs": [
    {
     "name": "stdout",
     "output_type": "stream",
     "text": [
      "{'apples', 'peaches', 'pears'}\n"
     ]
    }
   ],
   "source": [
    "set1 = {'apples', 'bananas', 'oranges', 'peaches', 'pears', 'pineapples'}\n",
    "set2 = {'apples', 'peaches', 'pears'}\n",
    "\n",
    "# Match items from *set1* against items in *set2*. Overwrite *set1* with the set of matching items.\n",
    "set1.intersection_update(set2)\n",
    "print (set1)"
   ]
  },
  {
   "cell_type": "markdown",
   "metadata": {},
   "source": [
    "## set1.isdisjoint(set2)\n",
    "\n",
    "Matches the items in *set1* against the items in *set2*.\n",
    "* if no matches are found,returns TRUE (sets are disjoint)\n",
    "* if matches are found, returns FALS (sets are NOT disjoint)"
   ]
  },
  {
   "cell_type": "code",
   "execution_count": 13,
   "metadata": {},
   "outputs": [
    {
     "name": "stdout",
     "output_type": "stream",
     "text": [
      "True\n",
      "No matches found. These sets are disjoint.\n",
      "\n",
      "False\n",
      "At least on match found. These sets are NOT disjoint.\n"
     ]
    }
   ],
   "source": [
    "set1 = {'apples', 'bananas', 'oranges'}\n",
    "set2 = {'peaches', 'pears', 'pineapples'}\n",
    "\n",
    "# Match *set1* against *set2*. If no matches found return True. Otherwise, there is at least one matching item,\n",
    "# so return False\n",
    "bol = set1.isdisjoint(set2)\n",
    "print (bol)\n",
    "\n",
    "if set1.isdisjoint(set2):\n",
    "    print ('No matches found. These sets are disjoint.')\n",
    "else:\n",
    "    print ('At least on match found. These sets are NOT disjoint.')\n",
    "    \n",
    "print()\n",
    "\n",
    "# Add a matching item to set2\n",
    "set1 = {'apples', 'bananas', 'oranges'}\n",
    "set2 = {'oranges', 'peaches', 'pears', 'pineapples'}\n",
    "\n",
    "# Match *set1* against *set2*. If no matches found return True. Otherwise, there is at least one matching item,\n",
    "# so return False\n",
    "bol = set1.isdisjoint(set2)\n",
    "print (bol)\n",
    "\n",
    "if set1.isdisjoint(set2):\n",
    "    print ('No matches found. These sets are disjoint.')\n",
    "else:\n",
    "    print ('At least on match found. These sets are NOT disjoint.')\n"
   ]
  },
  {
   "cell_type": "markdown",
   "metadata": {},
   "source": [
    "## set2.issubset(set1)\n",
    "\n",
    "* returns TRUE if *set2* is part of (subset) *set1*\n",
    "* otherwise, returns FALSE"
   ]
  },
  {
   "cell_type": "code",
   "execution_count": 20,
   "metadata": {},
   "outputs": [
    {
     "name": "stdout",
     "output_type": "stream",
     "text": [
      "True\n",
      "\n",
      "False\n",
      "\n",
      "False\n",
      "\n"
     ]
    }
   ],
   "source": [
    "set1 = {'apples', 'bananas', 'oranges', 'peaches', 'pears', 'pineapples'}\n",
    "set2 = {'bananas', 'peaches', 'pears'}\n",
    "\n",
    "# Check if set2 is part of (subset) set 1.\n",
    "bol = set2.issubset(set1)\n",
    "print(bol)\n",
    "print()\n",
    "\n",
    "# Check if set1 is part of set 2.\n",
    "bol = set1.issubset(set2)\n",
    "print(bol)\n",
    "print()\n",
    "\n",
    "# Add an item to set2 that doesn't exist in set1\n",
    "set1 = {'apples', 'bananas', 'oranges', 'peaches', 'pears', 'pineapples'}\n",
    "set2 = {'bananas', 'peaches', 'pears', 'strawberries'}\n",
    "\n",
    "# Check if set2 is part of (subset) set 1.\n",
    "bol = set2.issubset(set1)\n",
    "print(bol)\n",
    "print()"
   ]
  },
  {
   "cell_type": "markdown",
   "metadata": {},
   "source": [
    "## set1.issuperset(set2)\n",
    "\n",
    "* returns TRUE if *set1* contains (is a superset of) *set2*\n",
    "* otherwise, returns FALSE"
   ]
  },
  {
   "cell_type": "code",
   "execution_count": 22,
   "metadata": {},
   "outputs": [
    {
     "name": "stdout",
     "output_type": "stream",
     "text": [
      "True\n",
      "\n",
      "False\n",
      "\n",
      "False\n",
      "\n"
     ]
    }
   ],
   "source": [
    "set1 = {'apples', 'bananas', 'oranges', 'peaches', 'pears', 'pineapples'}\n",
    "set2 = {'bananas', 'peaches', 'pears'}\n",
    "\n",
    "# Check if set1 contains (is a superset of) set2\n",
    "bol = set1.issuperset(set2)\n",
    "print(bol)\n",
    "print()\n",
    "\n",
    "# Check if set2 contains (is a superset of) set1\n",
    "bol = set2.issuperset(set1)\n",
    "print(bol)\n",
    "print()\n",
    "\n",
    "# Add an item to set2 that doesn't exist in set1\n",
    "set1 = {'apples', 'bananas', 'oranges', 'peaches', 'pears', 'pineapples'}\n",
    "set2 = {'bananas', 'peaches', 'pears', 'strawberries'}\n",
    "\n",
    "# Check if set1 is still a superset of set2.\n",
    "bol = set2.issubset(set1)\n",
    "print(bol)\n",
    "print()"
   ]
  },
  {
   "cell_type": "markdown",
   "metadata": {},
   "source": [
    "## popvar = my_set.pop()\n",
    "\n",
    "Removes a random item from a set and returns its value.\n",
    "* set.pop() doesn't accept any argument to specifiy which item to pop.\n",
    "* The popped item is *random*, not necessarily from the end of the set. Remember, sets are *unordered*."
   ]
  },
  {
   "cell_type": "code",
   "execution_count": 25,
   "metadata": {},
   "outputs": [
    {
     "name": "stdout",
     "output_type": "stream",
     "text": [
      "{'pears', 'oranges', 'bananas', 'pineapples', 'apples', 'peaches'}\n",
      "\n",
      "pears\n",
      "{'oranges', 'bananas', 'pineapples', 'apples', 'peaches'}\n",
      "\n",
      "oranges\n",
      "{'bananas', 'pineapples', 'apples', 'peaches'}\n",
      "\n"
     ]
    }
   ],
   "source": [
    "my_set = set1 = {'apples', 'bananas', 'oranges', 'peaches', 'pears', 'pineapples'} \n",
    "print (my_set)\n",
    "print()\n",
    "\n",
    "# Pop a random item out of my_set and store it's value in popvar.\n",
    "popvar = my_set.pop()\n",
    "print (popvar)\n",
    "print(my_set)\n",
    "print()\n",
    "\n",
    "# Pop another value\n",
    "popvar = my_set.pop()\n",
    "print (popvar)\n",
    "print(my_set)\n",
    "print()\n",
    "\n"
   ]
  },
  {
   "cell_type": "markdown",
   "metadata": {},
   "source": [
    "Trying to pop a value from a empty set throws an error."
   ]
  },
  {
   "cell_type": "code",
   "execution_count": 26,
   "metadata": {},
   "outputs": [
    {
     "ename": "KeyError",
     "evalue": "'pop from an empty set'",
     "output_type": "error",
     "traceback": [
      "\u001b[0;31m---------------------------------------------------------------------------\u001b[0m",
      "\u001b[0;31mKeyError\u001b[0m                                  Traceback (most recent call last)",
      "\u001b[0;32m<ipython-input-26-75035f884547>\u001b[0m in \u001b[0;36m<module>\u001b[0;34m()\u001b[0m\n\u001b[1;32m      2\u001b[0m \u001b[0mmy_set\u001b[0m \u001b[0;34m=\u001b[0m \u001b[0mset\u001b[0m\u001b[0;34m(\u001b[0m\u001b[0;34m[\u001b[0m\u001b[0;34m]\u001b[0m\u001b[0;34m)\u001b[0m\u001b[0;34m\u001b[0m\u001b[0m\n\u001b[1;32m      3\u001b[0m \u001b[0;34m\u001b[0m\u001b[0m\n\u001b[0;32m----> 4\u001b[0;31m \u001b[0mpopvar\u001b[0m \u001b[0;34m=\u001b[0m \u001b[0mmy_set\u001b[0m\u001b[0;34m.\u001b[0m\u001b[0mpop\u001b[0m\u001b[0;34m(\u001b[0m\u001b[0;34m)\u001b[0m\u001b[0;34m\u001b[0m\u001b[0m\n\u001b[0m",
      "\u001b[0;31mKeyError\u001b[0m: 'pop from an empty set'"
     ]
    }
   ],
   "source": [
    "# Create an empty set. Remember {} don't work for this. Use the set() operator.\n",
    "my_set = set([])\n",
    "\n",
    "popvar = my_set.pop()"
   ]
  },
  {
   "cell_type": "markdown",
   "metadata": {},
   "source": [
    "To prevent the empty-set error, test it first.\n",
    "* The following tests only work on an existing set. If the set doesn't exist they will throw a '*not defined*' error.\n",
    "\n",
    "*NameError: name **** is not defined*\n",
    "\n",
    "* To trap the '*not defined*' error modify and use the code shown in *List Tests* earlier."
   ]
  },
  {
   "cell_type": "code",
   "execution_count": 33,
   "metadata": {},
   "outputs": [
    {
     "name": "stdout",
     "output_type": "stream",
     "text": [
      "The set is empty. Nothing to pop.\n"
     ]
    },
    {
     "ename": "NameError",
     "evalue": "name 'no_set' is not defined",
     "output_type": "error",
     "traceback": [
      "\u001b[0;31m---------------------------------------------------------------------------\u001b[0m",
      "\u001b[0;31mNameError\u001b[0m                                 Traceback (most recent call last)",
      "\u001b[0;32m<ipython-input-33-0946c5d1cdea>\u001b[0m in \u001b[0;36m<module>\u001b[0;34m()\u001b[0m\n\u001b[1;32m     10\u001b[0m \u001b[0;31m# Here is another way to check.\u001b[0m\u001b[0;34m\u001b[0m\u001b[0;34m\u001b[0m\u001b[0m\n\u001b[1;32m     11\u001b[0m \u001b[0;31m# Only works if the set exists. If the set doesn't exist this throws an error.\u001b[0m\u001b[0;34m\u001b[0m\u001b[0;34m\u001b[0m\u001b[0m\n\u001b[0;32m---> 12\u001b[0;31m \u001b[0;32mif\u001b[0m \u001b[0mno_set\u001b[0m\u001b[0;34m:\u001b[0m\u001b[0;34m\u001b[0m\u001b[0m\n\u001b[0m\u001b[1;32m     13\u001b[0m     \u001b[0mpopvar\u001b[0m \u001b[0;34m=\u001b[0m \u001b[0mmy_set\u001b[0m\u001b[0;34m.\u001b[0m\u001b[0mpop\u001b[0m\u001b[0;34m(\u001b[0m\u001b[0;34m)\u001b[0m\u001b[0;34m\u001b[0m\u001b[0m\n\u001b[1;32m     14\u001b[0m \u001b[0;32melse\u001b[0m\u001b[0;34m:\u001b[0m\u001b[0;34m\u001b[0m\u001b[0m\n",
      "\u001b[0;31mNameError\u001b[0m: name 'no_set' is not defined"
     ]
    }
   ],
   "source": [
    "# Create an empty set. Remember {} don't work for this. Use the set() operator.\n",
    "my_set = set([])\n",
    "\n",
    "# Check to see if there is anything in the set before trying to pop from it.\n",
    "if len(my_set):\n",
    "    popvar = my_set.pop()\n",
    "else:\n",
    "    print(\"The set is empty. Nothing to pop.\")\n",
    "    \n",
    "# Here is another way to check.\n",
    "# Only works if the set exists. If the set doesn't exist this throws an error.\n",
    "if my_set:\n",
    "    popvar = my_set.pop()\n",
    "else:\n",
    "    print(\"The set is empty. Nothing to pop.\")"
   ]
  },
  {
   "cell_type": "markdown",
   "metadata": {},
   "source": [
    "## set.remove(item)\n",
    "\n",
    "* If item is not in the set .remove(item) throws an error, so test before using .remove(item)\n",
    "* Note that .discard(item) doesn't throw an error\n",
    "\n",
    "If it is ok in your code for the operation to fail silently, use .discard(item). If on the other hand you need a trappable error use .remove(item)."
   ]
  },
  {
   "cell_type": "code",
   "execution_count": 38,
   "metadata": {},
   "outputs": [
    {
     "name": "stdout",
     "output_type": "stream",
     "text": [
      "{'pears', 'oranges', 'bananas', 'pineapples', 'apples', 'peaches'}\n",
      "\n",
      "{'pears', 'bananas', 'pineapples', 'apples', 'peaches'}\n"
     ]
    }
   ],
   "source": [
    "my_set = set1 = {'apples', 'bananas', 'oranges', 'peaches', 'pears', 'pineapples'} \n",
    "print(my_set)\n",
    "print()\n",
    "\n",
    "my_set.remove('oranges')\n",
    "print(my_set)\n",
    "\n",
    "if 'oranges' in my_set:\n",
    "    my_set.remove('oranges')"
   ]
  },
  {
   "cell_type": "markdown",
   "metadata": {},
   "source": [
    "## set1.symetric_difference(set2)\n",
    "Compare items from set1 against items in set2 and return the set of items that *do not* match."
   ]
  },
  {
   "cell_type": "code",
   "execution_count": 42,
   "metadata": {},
   "outputs": [
    {
     "name": "stdout",
     "output_type": "stream",
     "text": [
      "{'strawberries', 'pineapples', 'tomatoes', 'oranges', 'apples'}\n",
      "\n",
      "['apples', 'oranges', 'pineapples', 'strawberries', 'tomatoes']\n"
     ]
    }
   ],
   "source": [
    "set1 = {'apples', 'bananas', 'oranges', 'peaches', 'pears', 'pineapples'}\n",
    "set2 = {'bananas', 'peaches', 'pears', 'strawberries', 'tomatoes'}\n",
    "\n",
    "set_symdiff = set1.symmetric_difference(set2)\n",
    "print(set_symdiff)\n",
    "print()\n",
    "\n",
    "# Easier to compare if we sort the result\n",
    "lst_symdiff = list(set_symdiff)\n",
    "lst_symdiff.sort()\n",
    "print(lst_symdiff)"
   ]
  },
  {
   "cell_type": "markdown",
   "metadata": {},
   "source": [
    "## set1.symetric_difference_update(set2)\n",
    "Compare items from set1 against items in set2 and overwrite *set1* with the set of items that *do not* match."
   ]
  },
  {
   "cell_type": "code",
   "execution_count": 46,
   "metadata": {},
   "outputs": [
    {
     "name": "stdout",
     "output_type": "stream",
     "text": [
      "{'tomatoes', 'oranges', 'strawberries', 'pineapples', 'apples'}\n",
      "\n",
      "['apples', 'oranges', 'pineapples', 'strawberries', 'tomatoes']\n"
     ]
    }
   ],
   "source": [
    "set1 = {'apples', 'bananas', 'oranges', 'peaches', 'pears', 'pineapples'}\n",
    "set2 = {'bananas', 'peaches', 'pears', 'strawberries', 'tomatoes'}\n",
    "\n",
    "set1.symmetric_difference_update(set2)\n",
    "print(set1)\n",
    "print()\n",
    "\n",
    "# Easier to compare if we sort the result\n",
    "lst_set1 = list(set1)\n",
    "lst_set1.sort()\n",
    "print(lst_set1)"
   ]
  },
  {
   "cell_type": "markdown",
   "metadata": {},
   "source": [
    "## set_union = set1.union(set2)\n",
    "Compares two sets and returns a set of distinct items from both (duplicate items only shown once in the return set)."
   ]
  },
  {
   "cell_type": "code",
   "execution_count": 48,
   "metadata": {},
   "outputs": [
    {
     "name": "stdout",
     "output_type": "stream",
     "text": [
      "{'pears', 'tomatoes', 'oranges', 'strawberries', 'bananas', 'pineapples', 'apples', 'peaches'}\n",
      "['apples', 'bananas', 'oranges', 'peaches', 'pears', 'pineapples', 'strawberries', 'tomatoes']\n"
     ]
    }
   ],
   "source": [
    "set1 = {'apples', 'bananas', 'oranges', 'peaches', 'pears', 'pineapples'}\n",
    "set2 = {'bananas', 'peaches', 'pears', 'strawberries', 'tomatoes'}\n",
    "\n",
    "set_union = set1.union(set2)\n",
    "print (set_union)\n",
    "\n",
    "# Easier to compare if we sort the result\n",
    "lst_union = list(set_union)\n",
    "lst_union.sort()\n",
    "print(lst_union)"
   ]
  },
  {
   "cell_type": "markdown",
   "metadata": {},
   "source": [
    "## my_set.update(iterable)\n",
    "Adds items from *iterable* to my_set. Note the use of *update* instead of *append*. This choice of words is consistent with the fact that sets are unordered and that items from the iterable are not necessarily added to the end of the set.\n",
    "\n",
    "The *iterable* can be a list, set, tuple, or dictionary."
   ]
  },
  {
   "cell_type": "code",
   "execution_count": 49,
   "metadata": {},
   "outputs": [
    {
     "name": "stdout",
     "output_type": "stream",
     "text": [
      "{'apples', 'oranges', 'bananas'}\n",
      "\n",
      "{'celery', 'carrots', 'bananas', 'cucumbers', 'apples', 'oranges'}\n"
     ]
    }
   ],
   "source": [
    "fruits_and_vegies = set([])\n",
    "fruits = {'apples', 'bananas', 'oranges'}\n",
    "vegies = {'cucumbers', 'carrots', 'celery'}\n",
    "\n",
    "fruits_and_vegies.update(fruits)\n",
    "print (fruits_and_vegies)\n",
    "print()\n",
    "\n",
    "fruits_and_vegies.update(vegies)\n",
    "print (fruits_and_vegies)"
   ]
  },
  {
   "cell_type": "markdown",
   "metadata": {},
   "source": [
    "## fset = frozenset(iterable)\n",
    "Creates an immutable (frozen) set. Iterable can be a list, set, or dictionary.\n",
    "\n",
    "Set methods for a frozen set include all those for a regular set **except** those that change the contents of the set."
   ]
  },
  {
   "cell_type": "code",
   "execution_count": 53,
   "metadata": {},
   "outputs": [
    {
     "name": "stdout",
     "output_type": "stream",
     "text": [
      "two\n",
      "one\n",
      "three\n"
     ]
    },
    {
     "ename": "AttributeError",
     "evalue": "'frozenset' object has no attribute 'add'",
     "output_type": "error",
     "traceback": [
      "\u001b[0;31m---------------------------------------------------------------------------\u001b[0m",
      "\u001b[0;31mAttributeError\u001b[0m                            Traceback (most recent call last)",
      "\u001b[0;32m<ipython-input-53-b9e2d7369efa>\u001b[0m in \u001b[0;36m<module>\u001b[0;34m()\u001b[0m\n\u001b[1;32m      5\u001b[0m     \u001b[0mprint\u001b[0m \u001b[0;34m(\u001b[0m\u001b[0mi\u001b[0m\u001b[0;34m)\u001b[0m\u001b[0;34m\u001b[0m\u001b[0m\n\u001b[1;32m      6\u001b[0m \u001b[0;34m\u001b[0m\u001b[0m\n\u001b[0;32m----> 7\u001b[0;31m \u001b[0mfset\u001b[0m\u001b[0;34m.\u001b[0m\u001b[0madd\u001b[0m\u001b[0;34m(\u001b[0m\u001b[0;34m'four'\u001b[0m\u001b[0;34m)\u001b[0m\u001b[0;34m\u001b[0m\u001b[0m\n\u001b[0m\u001b[1;32m      8\u001b[0m \u001b[0mfset\u001b[0m\u001b[0;34m.\u001b[0m\u001b[0mdiscard\u001b[0m\u001b[0;34m(\u001b[0m\u001b[0;34m'one'\u001b[0m\u001b[0;34m)\u001b[0m\u001b[0;34m\u001b[0m\u001b[0m\n",
      "\u001b[0;31mAttributeError\u001b[0m: 'frozenset' object has no attribute 'add'"
     ]
    }
   ],
   "source": [
    "list_iterable = ['one', 'two', 'three']\n",
    "\n",
    "fset = frozenset(list_iterable)\n",
    "for i in fset:\n",
    "    print (i)\n",
    "    \n",
    "# Each of the following set methods will fail on this frozen set with:\n",
    "#   AttributeError: 'frozenset' object has no attribute 'add'\n",
    "#\n",
    "#fset.add('four')\n",
    "#fset.discard('one')\n",
    "#..."
   ]
  },
  {
   "cell_type": "markdown",
   "metadata": {},
   "source": [
    "## Converting a List to a Set\n",
    "\n",
    "One creative use of sets is to remove duplicates from a list. To do this we need to know how to convert from list to set and back from set to list.\n",
    "\n",
    "Notice that when you create a set the order of entries in the set doesn't have to agree with the input order. Sets are unordered,. They are great for math and logic. However, if you need to update, work with indexes and sort convert the set to a list."
   ]
  },
  {
   "cell_type": "code",
   "execution_count": 6,
   "metadata": {},
   "outputs": [
    {
     "name": "stdout",
     "output_type": "stream",
     "text": [
      "<class 'list'>\n",
      "['one', 'two', 'three', 'one', 'one']\n",
      "\n",
      "<class 'set'>\n",
      "{'three', 'two', 'one'}\n",
      "\n",
      "<class 'list'>\n",
      "['three', 'two', 'one']\n",
      "\n"
     ]
    }
   ],
   "source": [
    "# Create a list with duplicates\n",
    "my_list = ['one', 'two', 'three', 'one', 'one']\n",
    "print(type(my_list))\n",
    "print(my_list)\n",
    "print()\n",
    "\n",
    "# Create a set from the list.\n",
    "# Duplicate entries will be removed.\n",
    "my_set = set(my_list)\n",
    "print(type(my_set))\n",
    "print(my_set)\n",
    "print()\n",
    "\n",
    "# Recreate the list from the set\n",
    "my_list = list(my_set)\n",
    "print(type(my_list))\n",
    "print(my_list)\n",
    "print()"
   ]
  },
  {
   "cell_type": "markdown",
   "metadata": {},
   "source": [
    "## Dictionaries <a name=\"Dictionaries\"></a>\n",
    "\n",
    "[TOC](#TOC)"
   ]
  }
 ],
 "metadata": {
  "kernelspec": {
   "display_name": "Python 3",
   "language": "python",
   "name": "python3"
  },
  "language_info": {
   "codemirror_mode": {
    "name": "ipython",
    "version": 3
   },
   "file_extension": ".py",
   "mimetype": "text/x-python",
   "name": "python",
   "nbconvert_exporter": "python",
   "pygments_lexer": "ipython3",
   "version": "3.6.5"
  }
 },
 "nbformat": 4,
 "nbformat_minor": 2
}
