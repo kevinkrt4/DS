{
 "cells": [
  {
   "cell_type": "markdown",
   "metadata": {},
   "source": [
    "# Markdown and Latex\n"
   ]
  },
  {
   "cell_type": "markdown",
   "metadata": {},
   "source": [
    "# Heading 1\n",
    "## Heading 2\n",
    "### Heading 3\n",
    "#### Heading 4\n",
    "##### Heading 5\n",
    "###### Heading 6\n",
    "\n",
    "\n",
    "Normal text.\n",
    "\n",
    "*Emphasised* text.\n",
    "\n",
    "**Strong** text.\n",
    "\n",
    "Unordered list:\n",
    "\n",
    "* Item 1\n",
    "* Item 2\n",
    "* Item 3\n",
    "\n",
    "Ordered list:\n",
    "\n",
    "1. Item 1\n",
    "2. Item 2\n",
    "3. Item 3\n",
    "\n",
    "\n",
    "This is an [inline link](http://example.com/).\n",
    "\n",
    "This is an [inline link with a title](http://example.com/ \"With a Title\").\n",
    "\n",
    "\n",
    "These are links by reference. Same result as above. Just a differnt way. This way is good if you have lots of links to include in your text. Here I can have a link to [Google][1], one to \n",
    "[Yahoo][2] and another to [MSN][3].\n",
    "\n",
    "[1]: http://google.com/        \"Google\"\n",
    "[2]: http://search.yahoo.com/  \"Yahoo Search\"\n",
    "[3]: http://search.msn.com/    \"MSN Search\"\n",
    "\n",
    "The references don't have to be numbers. They can be strings. The titles (\"Google\", \"Yahoo Search\", \"MSN Search\") are optional. Here are the same links with a different reference table. [Google][one], [Yahoo][two], [MSN][three].\n",
    "\n",
    "[one]: http://google.com/        \"Google\"\n",
    "[two]: http://search.yahoo.com/  \"Yahoo Search\"\n",
    "[three]: http://search.msn.com/    \"MSN Search\"\n",
    "\n",
    "\n",
    "### Latex\n",
    "\n",
    "Inline looks like this $y = mx +  b$.\n",
    "\n",
    "Display expression is done like this $$y = mx + b$$\n",
    "\n",
    "Here is standard form for an exponential function: $f(x) = a \\cdot e^x + b$.\n",
    "\n",
    "Display it with $$f(x) = a \\cdot e^x + b$$\n",
    "\n",
    "Show square root this way $$\\sqrt{x^2} = x$$\n",
    "\n",
    "Show $n^{th}$ root this way. $$\\sqrt[3]{x^3} = x$$\n",
    "\n",
    "Absolute value $$\\left|x + b\\right|$$.\n",
    "\n",
    "Multiplied by: $$a \\cdot \\left|x + b \\right| + c$$\n",
    "\n",
    "  or $$a \\times x$$ \n",
    "  \n",
    "  or $$a \\ast x$$ \n",
    "\n",
    "\n",
    "Here is a [List of Latex Symbols](https://oeis.org/wiki/List_of_LaTeX_mathematical_symbols \"Latex Symbols\")"
   ]
  }
 ],
 "metadata": {
  "kernelspec": {
   "display_name": "Python 3",
   "language": "python",
   "name": "python3"
  },
  "language_info": {
   "codemirror_mode": {
    "name": "ipython",
    "version": 3
   },
   "file_extension": ".py",
   "mimetype": "text/x-python",
   "name": "python",
   "nbconvert_exporter": "python",
   "pygments_lexer": "ipython3",
   "version": "3.6.5"
  }
 },
 "nbformat": 4,
 "nbformat_minor": 2
}
