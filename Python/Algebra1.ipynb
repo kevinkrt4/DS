{
 "cells": [
  {
   "cell_type": "markdown",
   "metadata": {},
   "source": [
    "## Arithmetic Sequences"
   ]
  },
  {
   "cell_type": "markdown",
   "metadata": {},
   "source": [
    "$$\n",
    "g(n) = \n",
    "\\begin{cases}\n",
    "8 & \\text{if n = 1}\\\\\n",
    "g(1) + {d \\cdot (n -1)} & \\text{if n > 1}\\\\\n",
    "\\end{cases}\n",
    "$$\n",
    "\n",
    "Where d is the common difference."
   ]
  },
  {
   "cell_type": "code",
   "execution_count": 9,
   "metadata": {},
   "outputs": [
    {
     "name": "stdout",
     "output_type": "stream",
     "text": [
      "sequence = [4, 7.2, 10.4, 13.6]\n",
      "term to find = 5\n",
      "index values [1, 2, 3, 4, 5]\n",
      "common difference(d) = 3.200000\n",
      "\n",
      "Recursive\n",
      "[1, 2, 3, 4, 5] [4, 7.2, 10.4, 13.600000000000001, 16.8]\n",
      "\n",
      "Explicit\n",
      "  5 |  16\n"
     ]
    }
   ],
   "source": [
    "sequence = [4, 7.2, 10.4, 13.6]\n",
    "firstTerm = sequence[0]\n",
    "\n",
    "termToFind = 5\n",
    "nvalues = [n  for n in range(1, termToFind + 1)]\n",
    "\n",
    "d = sequence[1] - sequence[0]  # Common Difference\n",
    "\n",
    "fofn = [] # Initialize list to hold term values\n",
    "\n",
    "print(\"sequence = %s\" % (str(sequence)))\n",
    "print(\"term to find = %d\" % (termToFind))\n",
    "print(\"index values %s\" % (str(nvalues)))\n",
    "print(\"common difference(d) = %f\" % (d))\n",
    "print()\n",
    "\n",
    "\n",
    "# Recursive\n",
    "print(\"Recursive\")\n",
    "\n",
    "for n in nvalues:\n",
    "    nidx = nvalues.index(n)\n",
    "    if n == 1:\n",
    "        fofn.append(sequence[nidx])\n",
    "    else:\n",
    "        fofn.append(sequence[nidx - 1] + d)\n",
    "\n",
    "print(nvalues, fofn)\n",
    "        \n",
    "           \n",
    "\n",
    "# Explicit\n",
    "print()\n",
    "print(\"Explicit\")\n",
    "print(\"%3d | %3d\" % (termToFind, firstTerm + d * (termToFind - 1)))\n",
    "\n",
    "\n",
    "    "
   ]
  },
  {
   "cell_type": "code",
   "execution_count": 11,
   "metadata": {},
   "outputs": [
    {
     "data": {
      "image/png": "[encoded data removed]",
      "text/plain": [
       "<Figure size 432x288 with 1 Axes>"
      ]
     },
     "metadata": {},
     "output_type": "display_data"
    }
   ],
   "source": [
    "from matplotlib import pyplot as plt\n",
    "\n",
    "plt.plot(nvalues, fofn, marker='o')\n",
    "\n",
    "plt.show()\n"
   ]
  },
  {
   "cell_type": "code",
   "execution_count": null,
   "metadata": {},
   "outputs": [],
   "source": []
  }
 ],
 "metadata": {
  "kernelspec": {
   "display_name": "Python 3",
   "language": "python",
   "name": "python3"
  },
  "language_info": {
   "codemirror_mode": {
    "name": "ipython",
    "version": 3
   },
   "file_extension": ".py",
   "mimetype": "text/x-python",
   "name": "python",
   "nbconvert_exporter": "python",
   "pygments_lexer": "ipython3",
   "version": "3.6.5"
  }
 },
 "nbformat": 4,
 "nbformat_minor": 2
}
