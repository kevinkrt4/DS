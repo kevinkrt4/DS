{
 "cells": [
  {
   "cell_type": "markdown",
   "metadata": {},
   "source": [
    "## Geometric Sequences"
   ]
  },
  {
   "cell_type": "markdown",
   "metadata": {},
   "source": [
    "$$\n",
    "d(n) = \n",
    "\\begin{cases}\n",
    "8 & \\text{if n = 1}\\\\\n",
    "d(n-1) \\cdot r^{n-1} & \\text{if n > 1}\\\\\n",
    "\\end{cases}\n",
    "$$\n",
    "\n",
    "What is the 3$^{rd}$ term in the sequence?"
   ]
  },
  {
   "cell_type": "code",
   "execution_count": 20,
   "metadata": {},
   "outputs": [
    {
     "name": "stdout",
     "output_type": "stream",
     "text": [
      "Recursive\n",
      "  1 |   8\n",
      "  2 | -40\n",
      "  3 | 200\n",
      "\n",
      "Explicit\n",
      "  3 | 200\n"
     ]
    }
   ],
   "source": [
    "firstTerm = 8  # n = 1\n",
    "d = []\n",
    "d.append(0) # Put something in d[0] so we can work with an offset of 1 below\n",
    "r = -5  # Common Ratio\n",
    "termToFind = 3\n",
    "\n",
    "# Recursive\n",
    "print(\"Recursive\")\n",
    "for n in range(1, termToFind + 1):\n",
    "    if n == 1:\n",
    "        d.append(firstTerm) # Stored in d[1]\n",
    "        print(\"%3d | %3d\" % (n, d[n]))\n",
    "    else:\n",
    "        d.append(d[n-1] * r)\n",
    "        print(\"%3d | %3d\" % (n, d[n]))\n",
    "\n",
    "# Explicit\n",
    "print()\n",
    "print(\"Explicit\")\n",
    "print(\"%3d | %3d\" % (termToFind, firstTerm * r**(termToFind - 1)))\n",
    "\n",
    "\n",
    "    "
   ]
  },
  {
   "cell_type": "code",
   "execution_count": null,
   "metadata": {},
   "outputs": [],
   "source": [
    "from matplotlib import pyplot as plt\n",
    "\n"
   ]
  }
 ],
 "metadata": {
  "kernelspec": {
   "display_name": "Python 3",
   "language": "python",
   "name": "python3"
  },
  "language_info": {
   "codemirror_mode": {
    "name": "ipython",
    "version": 3
   },
   "file_extension": ".py",
   "mimetype": "text/x-python",
   "name": "python",
   "nbconvert_exporter": "python",
   "pygments_lexer": "ipython3",
   "version": "3.6.5"
  }
 },
 "nbformat": 4,
 "nbformat_minor": 2
}
